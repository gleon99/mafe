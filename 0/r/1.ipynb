{
 "cells": [
  {
   "cell_type": "markdown",
   "metadata": {
    "deletable": true,
    "editable": true
   },
   "source": [
    "# Welcome to rnotebook.io!\n",
    "\n",
    "If you've never used a Notebook environment before, read on!\n",
    "\n",
    "Otherwise, here's some stuff you might want to know:\n",
    "\n",
    "* This environment is preloaded with R and over three thousand R packages.\n",
    "* You can return and edit it any time, forever.\n",
    "* This is a BETA service. We're rapidly improving it.\n",
    "\n",
    "Right now, you're using [rnotebook.io](https://rnotebook.io) without logging in. As a result, there are some restrictions on what you can do:\n",
    "\n",
    "* RAM consumption and disk space are limited.\n",
    "* There's no network access.\n",
    "\n",
    "We will start lifting these restrictions in the free and paid accounts shortly.\n",
    "\n",
    "**Please send feedback (bugs, problems, suggestions) to [ian@mutexlabs.com](mailto:ian@mutexlabs.com)**.\n",
    "\n",
    "Enjoy!"
   ]
  },
  {
   "cell_type": "markdown",
   "metadata": {
    "deletable": true,
    "editable": true
   },
   "source": [
    "# Getting started\n",
    "\n",
    "Notebooks let you mix code, documentation and graphics. The following cell contains the traditional 'Hello, world!' greeting. Click it, then execute it by pressing Shift-Enter."
   ]
  },
  {
   "cell_type": "code",
   "execution_count": 2,
   "metadata": {
    "collapsed": false,
    "deletable": true,
    "editable": true
   },
   "outputs": [
    {
     "name": "stdout",
     "output_type": "stream",
     "text": [
      "[1] \"Hello, world!\"\n"
     ]
    }
   ],
   "source": [
    "print(\"Hello, world!\")"
   ]
  },
  {
   "cell_type": "markdown",
   "metadata": {
    "deletable": true,
    "editable": true
   },
   "source": [
    "We're working in R, so you might want to play with one of the built-in datasets. Let's check out `mtcars`."
   ]
  },
  {
   "cell_type": "code",
   "execution_count": 3,
   "metadata": {
    "collapsed": false,
    "deletable": true,
    "editable": true
   },
   "outputs": [
    {
     "data": {
      "text/html": [
       "<table>\n",
       "<thead><tr><th></th><th scope=col>mpg</th><th scope=col>cyl</th><th scope=col>disp</th><th scope=col>hp</th><th scope=col>drat</th><th scope=col>wt</th><th scope=col>qsec</th><th scope=col>vs</th><th scope=col>am</th><th scope=col>gear</th><th scope=col>carb</th></tr></thead>\n",
       "<tbody>\n",
       "\t<tr><th scope=row>Mazda RX4</th><td>21.0 </td><td>6    </td><td>160.0</td><td>110  </td><td>3.90 </td><td>2.620</td><td>16.46</td><td>0    </td><td>1    </td><td>4    </td><td>4    </td></tr>\n",
       "\t<tr><th scope=row>Mazda RX4 Wag</th><td>21.0 </td><td>6    </td><td>160.0</td><td>110  </td><td>3.90 </td><td>2.875</td><td>17.02</td><td>0    </td><td>1    </td><td>4    </td><td>4    </td></tr>\n",
       "\t<tr><th scope=row>Datsun 710</th><td>22.8 </td><td>4    </td><td>108.0</td><td> 93  </td><td>3.85 </td><td>2.320</td><td>18.61</td><td>1    </td><td>1    </td><td>4    </td><td>1    </td></tr>\n",
       "\t<tr><th scope=row>Hornet 4 Drive</th><td>21.4 </td><td>6    </td><td>258.0</td><td>110  </td><td>3.08 </td><td>3.215</td><td>19.44</td><td>1    </td><td>0    </td><td>3    </td><td>1    </td></tr>\n",
       "\t<tr><th scope=row>Hornet Sportabout</th><td>18.7 </td><td>8    </td><td>360.0</td><td>175  </td><td>3.15 </td><td>3.440</td><td>17.02</td><td>0    </td><td>0    </td><td>3    </td><td>2    </td></tr>\n",
       "\t<tr><th scope=row>Valiant</th><td>18.1 </td><td>6    </td><td>225.0</td><td>105  </td><td>2.76 </td><td>3.460</td><td>20.22</td><td>1    </td><td>0    </td><td>3    </td><td>1    </td></tr>\n",
       "\t<tr><th scope=row>Duster 360</th><td>14.3 </td><td>8    </td><td>360.0</td><td>245  </td><td>3.21 </td><td>3.570</td><td>15.84</td><td>0    </td><td>0    </td><td>3    </td><td>4    </td></tr>\n",
       "\t<tr><th scope=row>Merc 240D</th><td>24.4 </td><td>4    </td><td>146.7</td><td> 62  </td><td>3.69 </td><td>3.190</td><td>20.00</td><td>1    </td><td>0    </td><td>4    </td><td>2    </td></tr>\n",
       "\t<tr><th scope=row>Merc 230</th><td>22.8 </td><td>4    </td><td>140.8</td><td> 95  </td><td>3.92 </td><td>3.150</td><td>22.90</td><td>1    </td><td>0    </td><td>4    </td><td>2    </td></tr>\n",
       "\t<tr><th scope=row>Merc 280</th><td>19.2 </td><td>6    </td><td>167.6</td><td>123  </td><td>3.92 </td><td>3.440</td><td>18.30</td><td>1    </td><td>0    </td><td>4    </td><td>4    </td></tr>\n",
       "\t<tr><th scope=row>Merc 280C</th><td>17.8 </td><td>6    </td><td>167.6</td><td>123  </td><td>3.92 </td><td>3.440</td><td>18.90</td><td>1    </td><td>0    </td><td>4    </td><td>4    </td></tr>\n",
       "\t<tr><th scope=row>Merc 450SE</th><td>16.4 </td><td>8    </td><td>275.8</td><td>180  </td><td>3.07 </td><td>4.070</td><td>17.40</td><td>0    </td><td>0    </td><td>3    </td><td>3    </td></tr>\n",
       "\t<tr><th scope=row>Merc 450SL</th><td>17.3 </td><td>8    </td><td>275.8</td><td>180  </td><td>3.07 </td><td>3.730</td><td>17.60</td><td>0    </td><td>0    </td><td>3    </td><td>3    </td></tr>\n",
       "\t<tr><th scope=row>Merc 450SLC</th><td>15.2 </td><td>8    </td><td>275.8</td><td>180  </td><td>3.07 </td><td>3.780</td><td>18.00</td><td>0    </td><td>0    </td><td>3    </td><td>3    </td></tr>\n",
       "\t<tr><th scope=row>Cadillac Fleetwood</th><td>10.4 </td><td>8    </td><td>472.0</td><td>205  </td><td>2.93 </td><td>5.250</td><td>17.98</td><td>0    </td><td>0    </td><td>3    </td><td>4    </td></tr>\n",
       "\t<tr><th scope=row>Lincoln Continental</th><td>10.4 </td><td>8    </td><td>460.0</td><td>215  </td><td>3.00 </td><td>5.424</td><td>17.82</td><td>0    </td><td>0    </td><td>3    </td><td>4    </td></tr>\n",
       "\t<tr><th scope=row>Chrysler Imperial</th><td>14.7 </td><td>8    </td><td>440.0</td><td>230  </td><td>3.23 </td><td>5.345</td><td>17.42</td><td>0    </td><td>0    </td><td>3    </td><td>4    </td></tr>\n",
       "\t<tr><th scope=row>Fiat 128</th><td>32.4 </td><td>4    </td><td> 78.7</td><td> 66  </td><td>4.08 </td><td>2.200</td><td>19.47</td><td>1    </td><td>1    </td><td>4    </td><td>1    </td></tr>\n",
       "\t<tr><th scope=row>Honda Civic</th><td>30.4 </td><td>4    </td><td> 75.7</td><td> 52  </td><td>4.93 </td><td>1.615</td><td>18.52</td><td>1    </td><td>1    </td><td>4    </td><td>2    </td></tr>\n",
       "\t<tr><th scope=row>Toyota Corolla</th><td>33.9 </td><td>4    </td><td> 71.1</td><td> 65  </td><td>4.22 </td><td>1.835</td><td>19.90</td><td>1    </td><td>1    </td><td>4    </td><td>1    </td></tr>\n",
       "\t<tr><th scope=row>Toyota Corona</th><td>21.5 </td><td>4    </td><td>120.1</td><td> 97  </td><td>3.70 </td><td>2.465</td><td>20.01</td><td>1    </td><td>0    </td><td>3    </td><td>1    </td></tr>\n",
       "\t<tr><th scope=row>Dodge Challenger</th><td>15.5 </td><td>8    </td><td>318.0</td><td>150  </td><td>2.76 </td><td>3.520</td><td>16.87</td><td>0    </td><td>0    </td><td>3    </td><td>2    </td></tr>\n",
       "\t<tr><th scope=row>AMC Javelin</th><td>15.2 </td><td>8    </td><td>304.0</td><td>150  </td><td>3.15 </td><td>3.435</td><td>17.30</td><td>0    </td><td>0    </td><td>3    </td><td>2    </td></tr>\n",
       "\t<tr><th scope=row>Camaro Z28</th><td>13.3 </td><td>8    </td><td>350.0</td><td>245  </td><td>3.73 </td><td>3.840</td><td>15.41</td><td>0    </td><td>0    </td><td>3    </td><td>4    </td></tr>\n",
       "\t<tr><th scope=row>Pontiac Firebird</th><td>19.2 </td><td>8    </td><td>400.0</td><td>175  </td><td>3.08 </td><td>3.845</td><td>17.05</td><td>0    </td><td>0    </td><td>3    </td><td>2    </td></tr>\n",
       "\t<tr><th scope=row>Fiat X1-9</th><td>27.3 </td><td>4    </td><td> 79.0</td><td> 66  </td><td>4.08 </td><td>1.935</td><td>18.90</td><td>1    </td><td>1    </td><td>4    </td><td>1    </td></tr>\n",
       "\t<tr><th scope=row>Porsche 914-2</th><td>26.0 </td><td>4    </td><td>120.3</td><td> 91  </td><td>4.43 </td><td>2.140</td><td>16.70</td><td>0    </td><td>1    </td><td>5    </td><td>2    </td></tr>\n",
       "\t<tr><th scope=row>Lotus Europa</th><td>30.4 </td><td>4    </td><td> 95.1</td><td>113  </td><td>3.77 </td><td>1.513</td><td>16.90</td><td>1    </td><td>1    </td><td>5    </td><td>2    </td></tr>\n",
       "\t<tr><th scope=row>Ford Pantera L</th><td>15.8 </td><td>8    </td><td>351.0</td><td>264  </td><td>4.22 </td><td>3.170</td><td>14.50</td><td>0    </td><td>1    </td><td>5    </td><td>4    </td></tr>\n",
       "\t<tr><th scope=row>Ferrari Dino</th><td>19.7 </td><td>6    </td><td>145.0</td><td>175  </td><td>3.62 </td><td>2.770</td><td>15.50</td><td>0    </td><td>1    </td><td>5    </td><td>6    </td></tr>\n",
       "\t<tr><th scope=row>Maserati Bora</th><td>15.0 </td><td>8    </td><td>301.0</td><td>335  </td><td>3.54 </td><td>3.570</td><td>14.60</td><td>0    </td><td>1    </td><td>5    </td><td>8    </td></tr>\n",
       "\t<tr><th scope=row>Volvo 142E</th><td>21.4 </td><td>4    </td><td>121.0</td><td>109  </td><td>4.11 </td><td>2.780</td><td>18.60</td><td>1    </td><td>1    </td><td>4    </td><td>2    </td></tr>\n",
       "</tbody>\n",
       "</table>\n"
      ],
      "text/latex": [
       "\\begin{tabular}{r|lllllllllll}\n",
       "  & mpg & cyl & disp & hp & drat & wt & qsec & vs & am & gear & carb\\\\\n",
       "\\hline\n",
       "\tMazda RX4 & 21.0  & 6     & 160.0 & 110   & 3.90  & 2.620 & 16.46 & 0     & 1     & 4     & 4    \\\\\n",
       "\tMazda RX4 Wag & 21.0  & 6     & 160.0 & 110   & 3.90  & 2.875 & 17.02 & 0     & 1     & 4     & 4    \\\\\n",
       "\tDatsun 710 & 22.8  & 4     & 108.0 &  93   & 3.85  & 2.320 & 18.61 & 1     & 1     & 4     & 1    \\\\\n",
       "\tHornet 4 Drive & 21.4  & 6     & 258.0 & 110   & 3.08  & 3.215 & 19.44 & 1     & 0     & 3     & 1    \\\\\n",
       "\tHornet Sportabout & 18.7  & 8     & 360.0 & 175   & 3.15  & 3.440 & 17.02 & 0     & 0     & 3     & 2    \\\\\n",
       "\tValiant & 18.1  & 6     & 225.0 & 105   & 2.76  & 3.460 & 20.22 & 1     & 0     & 3     & 1    \\\\\n",
       "\tDuster 360 & 14.3  & 8     & 360.0 & 245   & 3.21  & 3.570 & 15.84 & 0     & 0     & 3     & 4    \\\\\n",
       "\tMerc 240D & 24.4  & 4     & 146.7 &  62   & 3.69  & 3.190 & 20.00 & 1     & 0     & 4     & 2    \\\\\n",
       "\tMerc 230 & 22.8  & 4     & 140.8 &  95   & 3.92  & 3.150 & 22.90 & 1     & 0     & 4     & 2    \\\\\n",
       "\tMerc 280 & 19.2  & 6     & 167.6 & 123   & 3.92  & 3.440 & 18.30 & 1     & 0     & 4     & 4    \\\\\n",
       "\tMerc 280C & 17.8  & 6     & 167.6 & 123   & 3.92  & 3.440 & 18.90 & 1     & 0     & 4     & 4    \\\\\n",
       "\tMerc 450SE & 16.4  & 8     & 275.8 & 180   & 3.07  & 4.070 & 17.40 & 0     & 0     & 3     & 3    \\\\\n",
       "\tMerc 450SL & 17.3  & 8     & 275.8 & 180   & 3.07  & 3.730 & 17.60 & 0     & 0     & 3     & 3    \\\\\n",
       "\tMerc 450SLC & 15.2  & 8     & 275.8 & 180   & 3.07  & 3.780 & 18.00 & 0     & 0     & 3     & 3    \\\\\n",
       "\tCadillac Fleetwood & 10.4  & 8     & 472.0 & 205   & 2.93  & 5.250 & 17.98 & 0     & 0     & 3     & 4    \\\\\n",
       "\tLincoln Continental & 10.4  & 8     & 460.0 & 215   & 3.00  & 5.424 & 17.82 & 0     & 0     & 3     & 4    \\\\\n",
       "\tChrysler Imperial & 14.7  & 8     & 440.0 & 230   & 3.23  & 5.345 & 17.42 & 0     & 0     & 3     & 4    \\\\\n",
       "\tFiat 128 & 32.4  & 4     &  78.7 &  66   & 4.08  & 2.200 & 19.47 & 1     & 1     & 4     & 1    \\\\\n",
       "\tHonda Civic & 30.4  & 4     &  75.7 &  52   & 4.93  & 1.615 & 18.52 & 1     & 1     & 4     & 2    \\\\\n",
       "\tToyota Corolla & 33.9  & 4     &  71.1 &  65   & 4.22  & 1.835 & 19.90 & 1     & 1     & 4     & 1    \\\\\n",
       "\tToyota Corona & 21.5  & 4     & 120.1 &  97   & 3.70  & 2.465 & 20.01 & 1     & 0     & 3     & 1    \\\\\n",
       "\tDodge Challenger & 15.5  & 8     & 318.0 & 150   & 2.76  & 3.520 & 16.87 & 0     & 0     & 3     & 2    \\\\\n",
       "\tAMC Javelin & 15.2  & 8     & 304.0 & 150   & 3.15  & 3.435 & 17.30 & 0     & 0     & 3     & 2    \\\\\n",
       "\tCamaro Z28 & 13.3  & 8     & 350.0 & 245   & 3.73  & 3.840 & 15.41 & 0     & 0     & 3     & 4    \\\\\n",
       "\tPontiac Firebird & 19.2  & 8     & 400.0 & 175   & 3.08  & 3.845 & 17.05 & 0     & 0     & 3     & 2    \\\\\n",
       "\tFiat X1-9 & 27.3  & 4     &  79.0 &  66   & 4.08  & 1.935 & 18.90 & 1     & 1     & 4     & 1    \\\\\n",
       "\tPorsche 914-2 & 26.0  & 4     & 120.3 &  91   & 4.43  & 2.140 & 16.70 & 0     & 1     & 5     & 2    \\\\\n",
       "\tLotus Europa & 30.4  & 4     &  95.1 & 113   & 3.77  & 1.513 & 16.90 & 1     & 1     & 5     & 2    \\\\\n",
       "\tFord Pantera L & 15.8  & 8     & 351.0 & 264   & 4.22  & 3.170 & 14.50 & 0     & 1     & 5     & 4    \\\\\n",
       "\tFerrari Dino & 19.7  & 6     & 145.0 & 175   & 3.62  & 2.770 & 15.50 & 0     & 1     & 5     & 6    \\\\\n",
       "\tMaserati Bora & 15.0  & 8     & 301.0 & 335   & 3.54  & 3.570 & 14.60 & 0     & 1     & 5     & 8    \\\\\n",
       "\tVolvo 142E & 21.4  & 4     & 121.0 & 109   & 4.11  & 2.780 & 18.60 & 1     & 1     & 4     & 2    \\\\\n",
       "\\end{tabular}\n"
      ],
      "text/markdown": [
       "\n",
       "| <!--/--> | mpg | cyl | disp | hp | drat | wt | qsec | vs | am | gear | carb | \n",
       "|---|---|---|---|---|---|---|---|---|---|---|---|---|---|---|---|---|---|---|---|---|---|---|---|---|---|---|---|---|---|---|---|\n",
       "| Mazda RX4 | 21.0  | 6     | 160.0 | 110   | 3.90  | 2.620 | 16.46 | 0     | 1     | 4     | 4     | \n",
       "| Mazda RX4 Wag | 21.0  | 6     | 160.0 | 110   | 3.90  | 2.875 | 17.02 | 0     | 1     | 4     | 4     | \n",
       "| Datsun 710 | 22.8  | 4     | 108.0 |  93   | 3.85  | 2.320 | 18.61 | 1     | 1     | 4     | 1     | \n",
       "| Hornet 4 Drive | 21.4  | 6     | 258.0 | 110   | 3.08  | 3.215 | 19.44 | 1     | 0     | 3     | 1     | \n",
       "| Hornet Sportabout | 18.7  | 8     | 360.0 | 175   | 3.15  | 3.440 | 17.02 | 0     | 0     | 3     | 2     | \n",
       "| Valiant | 18.1  | 6     | 225.0 | 105   | 2.76  | 3.460 | 20.22 | 1     | 0     | 3     | 1     | \n",
       "| Duster 360 | 14.3  | 8     | 360.0 | 245   | 3.21  | 3.570 | 15.84 | 0     | 0     | 3     | 4     | \n",
       "| Merc 240D | 24.4  | 4     | 146.7 |  62   | 3.69  | 3.190 | 20.00 | 1     | 0     | 4     | 2     | \n",
       "| Merc 230 | 22.8  | 4     | 140.8 |  95   | 3.92  | 3.150 | 22.90 | 1     | 0     | 4     | 2     | \n",
       "| Merc 280 | 19.2  | 6     | 167.6 | 123   | 3.92  | 3.440 | 18.30 | 1     | 0     | 4     | 4     | \n",
       "| Merc 280C | 17.8  | 6     | 167.6 | 123   | 3.92  | 3.440 | 18.90 | 1     | 0     | 4     | 4     | \n",
       "| Merc 450SE | 16.4  | 8     | 275.8 | 180   | 3.07  | 4.070 | 17.40 | 0     | 0     | 3     | 3     | \n",
       "| Merc 450SL | 17.3  | 8     | 275.8 | 180   | 3.07  | 3.730 | 17.60 | 0     | 0     | 3     | 3     | \n",
       "| Merc 450SLC | 15.2  | 8     | 275.8 | 180   | 3.07  | 3.780 | 18.00 | 0     | 0     | 3     | 3     | \n",
       "| Cadillac Fleetwood | 10.4  | 8     | 472.0 | 205   | 2.93  | 5.250 | 17.98 | 0     | 0     | 3     | 4     | \n",
       "| Lincoln Continental | 10.4  | 8     | 460.0 | 215   | 3.00  | 5.424 | 17.82 | 0     | 0     | 3     | 4     | \n",
       "| Chrysler Imperial | 14.7  | 8     | 440.0 | 230   | 3.23  | 5.345 | 17.42 | 0     | 0     | 3     | 4     | \n",
       "| Fiat 128 | 32.4  | 4     |  78.7 |  66   | 4.08  | 2.200 | 19.47 | 1     | 1     | 4     | 1     | \n",
       "| Honda Civic | 30.4  | 4     |  75.7 |  52   | 4.93  | 1.615 | 18.52 | 1     | 1     | 4     | 2     | \n",
       "| Toyota Corolla | 33.9  | 4     |  71.1 |  65   | 4.22  | 1.835 | 19.90 | 1     | 1     | 4     | 1     | \n",
       "| Toyota Corona | 21.5  | 4     | 120.1 |  97   | 3.70  | 2.465 | 20.01 | 1     | 0     | 3     | 1     | \n",
       "| Dodge Challenger | 15.5  | 8     | 318.0 | 150   | 2.76  | 3.520 | 16.87 | 0     | 0     | 3     | 2     | \n",
       "| AMC Javelin | 15.2  | 8     | 304.0 | 150   | 3.15  | 3.435 | 17.30 | 0     | 0     | 3     | 2     | \n",
       "| Camaro Z28 | 13.3  | 8     | 350.0 | 245   | 3.73  | 3.840 | 15.41 | 0     | 0     | 3     | 4     | \n",
       "| Pontiac Firebird | 19.2  | 8     | 400.0 | 175   | 3.08  | 3.845 | 17.05 | 0     | 0     | 3     | 2     | \n",
       "| Fiat X1-9 | 27.3  | 4     |  79.0 |  66   | 4.08  | 1.935 | 18.90 | 1     | 1     | 4     | 1     | \n",
       "| Porsche 914-2 | 26.0  | 4     | 120.3 |  91   | 4.43  | 2.140 | 16.70 | 0     | 1     | 5     | 2     | \n",
       "| Lotus Europa | 30.4  | 4     |  95.1 | 113   | 3.77  | 1.513 | 16.90 | 1     | 1     | 5     | 2     | \n",
       "| Ford Pantera L | 15.8  | 8     | 351.0 | 264   | 4.22  | 3.170 | 14.50 | 0     | 1     | 5     | 4     | \n",
       "| Ferrari Dino | 19.7  | 6     | 145.0 | 175   | 3.62  | 2.770 | 15.50 | 0     | 1     | 5     | 6     | \n",
       "| Maserati Bora | 15.0  | 8     | 301.0 | 335   | 3.54  | 3.570 | 14.60 | 0     | 1     | 5     | 8     | \n",
       "| Volvo 142E | 21.4  | 4     | 121.0 | 109   | 4.11  | 2.780 | 18.60 | 1     | 1     | 4     | 2     | \n",
       "\n",
       "\n"
      ],
      "text/plain": [
       "                    mpg  cyl disp  hp  drat wt    qsec  vs am gear carb\n",
       "Mazda RX4           21.0 6   160.0 110 3.90 2.620 16.46 0  1  4    4   \n",
       "Mazda RX4 Wag       21.0 6   160.0 110 3.90 2.875 17.02 0  1  4    4   \n",
       "Datsun 710          22.8 4   108.0  93 3.85 2.320 18.61 1  1  4    1   \n",
       "Hornet 4 Drive      21.4 6   258.0 110 3.08 3.215 19.44 1  0  3    1   \n",
       "Hornet Sportabout   18.7 8   360.0 175 3.15 3.440 17.02 0  0  3    2   \n",
       "Valiant             18.1 6   225.0 105 2.76 3.460 20.22 1  0  3    1   \n",
       "Duster 360          14.3 8   360.0 245 3.21 3.570 15.84 0  0  3    4   \n",
       "Merc 240D           24.4 4   146.7  62 3.69 3.190 20.00 1  0  4    2   \n",
       "Merc 230            22.8 4   140.8  95 3.92 3.150 22.90 1  0  4    2   \n",
       "Merc 280            19.2 6   167.6 123 3.92 3.440 18.30 1  0  4    4   \n",
       "Merc 280C           17.8 6   167.6 123 3.92 3.440 18.90 1  0  4    4   \n",
       "Merc 450SE          16.4 8   275.8 180 3.07 4.070 17.40 0  0  3    3   \n",
       "Merc 450SL          17.3 8   275.8 180 3.07 3.730 17.60 0  0  3    3   \n",
       "Merc 450SLC         15.2 8   275.8 180 3.07 3.780 18.00 0  0  3    3   \n",
       "Cadillac Fleetwood  10.4 8   472.0 205 2.93 5.250 17.98 0  0  3    4   \n",
       "Lincoln Continental 10.4 8   460.0 215 3.00 5.424 17.82 0  0  3    4   \n",
       "Chrysler Imperial   14.7 8   440.0 230 3.23 5.345 17.42 0  0  3    4   \n",
       "Fiat 128            32.4 4    78.7  66 4.08 2.200 19.47 1  1  4    1   \n",
       "Honda Civic         30.4 4    75.7  52 4.93 1.615 18.52 1  1  4    2   \n",
       "Toyota Corolla      33.9 4    71.1  65 4.22 1.835 19.90 1  1  4    1   \n",
       "Toyota Corona       21.5 4   120.1  97 3.70 2.465 20.01 1  0  3    1   \n",
       "Dodge Challenger    15.5 8   318.0 150 2.76 3.520 16.87 0  0  3    2   \n",
       "AMC Javelin         15.2 8   304.0 150 3.15 3.435 17.30 0  0  3    2   \n",
       "Camaro Z28          13.3 8   350.0 245 3.73 3.840 15.41 0  0  3    4   \n",
       "Pontiac Firebird    19.2 8   400.0 175 3.08 3.845 17.05 0  0  3    2   \n",
       "Fiat X1-9           27.3 4    79.0  66 4.08 1.935 18.90 1  1  4    1   \n",
       "Porsche 914-2       26.0 4   120.3  91 4.43 2.140 16.70 0  1  5    2   \n",
       "Lotus Europa        30.4 4    95.1 113 3.77 1.513 16.90 1  1  5    2   \n",
       "Ford Pantera L      15.8 8   351.0 264 4.22 3.170 14.50 0  1  5    4   \n",
       "Ferrari Dino        19.7 6   145.0 175 3.62 2.770 15.50 0  1  5    6   \n",
       "Maserati Bora       15.0 8   301.0 335 3.54 3.570 14.60 0  1  5    8   \n",
       "Volvo 142E          21.4 4   121.0 109 4.11 2.780 18.60 1  1  4    2   "
      ]
     },
     "metadata": {},
     "output_type": "display_data"
    }
   ],
   "source": [
    "mtcars"
   ]
  },
  {
   "cell_type": "markdown",
   "metadata": {
    "deletable": true,
    "editable": true
   },
   "source": [
    "You can plot things:"
   ]
  },
  {
   "cell_type": "code",
   "execution_count": null,
   "metadata": {
    "collapsed": false,
    "deletable": true,
    "editable": true
   },
   "outputs": [],
   "source": [
    "hist(mtcars$hp)"
   ]
  },
  {
   "cell_type": "markdown",
   "metadata": {
    "deletable": true,
    "editable": true
   },
   "source": [
    "In R, `ggplot2` is the defacto standard plotting packages. Let's make the same plot using `ggplot2`."
   ]
  },
  {
   "cell_type": "code",
   "execution_count": null,
   "metadata": {
    "collapsed": false,
    "deletable": true,
    "editable": true
   },
   "outputs": [],
   "source": [
    "library(ggplot2)\n",
    "\n",
    "qplot(mtcars$hp)"
   ]
  },
  {
   "cell_type": "markdown",
   "metadata": {
    "deletable": true,
    "editable": true
   },
   "source": [
    "`plotly` is another popular graphing library. Let's try it!"
   ]
  },
  {
   "cell_type": "code",
   "execution_count": 4,
   "metadata": {
    "collapsed": false,
    "deletable": true,
    "editable": true,
    "scrolled": true
   },
   "outputs": [
    {
     "data": {
      "text/html": [
       "<iframe src=\"plotlyJupyterHTML/a5becf25e22b7559318e5889a56058aa.html\" width=\"100%\" height=\"400\" id=\"igraph\" scrolling=\"no\" seamless=\"seamless\" frameBorder=\"0\"> </iframe>"
      ]
     },
     "metadata": {},
     "output_type": "display_data"
    }
   ],
   "source": [
    "library(plotly)\n",
    "set.seed(100)\n",
    "d <- diamonds[sample(nrow(diamonds), 1000), ]\n",
    "p <- plot_ly(d, x = ~carat, y = ~price, color = ~carat,\n",
    "        size = ~carat, text = ~paste(\"Clarity: \", clarity),\n",
    "        type = \"scatter\", mode = \"markers\")\n",
    "embed_notebook(p)"
   ]
  },
  {
   "cell_type": "markdown",
   "metadata": {
    "deletable": true,
    "editable": true
   },
   "source": [
    "print(\"23\")"
   ]
  },
  {
   "cell_type": "code",
   "execution_count": 6,
   "metadata": {
    "collapsed": false,
    "deletable": true,
    "editable": true
   },
   "outputs": [
    {
     "name": "stdout",
     "output_type": "stream",
     "text": [
      "[1] \"23\"\n"
     ]
    }
   ],
   "source": [
    "print(\"23\")"
   ]
  },
  {
   "cell_type": "code",
   "execution_count": 7,
   "metadata": {
    "collapsed": true,
    "deletable": true,
    "editable": true
   },
   "outputs": [],
   "source": [
    "a=3"
   ]
  },
  {
   "cell_type": "code",
   "execution_count": 8,
   "metadata": {
    "collapsed": false,
    "deletable": true,
    "editable": true
   },
   "outputs": [
    {
     "data": {
      "text/html": [
       "7"
      ],
      "text/latex": [
       "7"
      ],
      "text/markdown": [
       "7"
      ],
      "text/plain": [
       "[1] 7"
      ]
     },
     "metadata": {},
     "output_type": "display_data"
    }
   ],
   "source": [
    "a+4"
   ]
  },
  {
   "cell_type": "code",
   "execution_count": 9,
   "metadata": {
    "collapsed": true,
    "deletable": true,
    "editable": true
   },
   "outputs": [],
   "source": [
    "a<-2"
   ]
  },
  {
   "cell_type": "code",
   "execution_count": 10,
   "metadata": {
    "collapsed": false,
    "deletable": true,
    "editable": true
   },
   "outputs": [
    {
     "data": {
      "text/html": [
       "2"
      ],
      "text/latex": [
       "2"
      ],
      "text/markdown": [
       "2"
      ],
      "text/plain": [
       "[1] 2"
      ]
     },
     "metadata": {},
     "output_type": "display_data"
    }
   ],
   "source": [
    "a"
   ]
  },
  {
   "cell_type": "code",
   "execution_count": 11,
   "metadata": {
    "collapsed": false,
    "deletable": true,
    "editable": true
   },
   "outputs": [
    {
     "ename": "ERROR",
     "evalue": "Error in parse(text = x, srcfile = src): <text>:1:4: unexpected '='\n1: a +=\n       ^\n",
     "output_type": "error",
     "traceback": [
      "Error in parse(text = x, srcfile = src): <text>:1:4: unexpected '='\n1: a +=\n       ^\nTraceback:\n"
     ]
    }
   ],
   "source": [
    "a += 3"
   ]
  },
  {
   "cell_type": "code",
   "execution_count": 12,
   "metadata": {
    "collapsed": false,
    "deletable": true,
    "editable": true
   },
   "outputs": [
    {
     "data": {
      "text/html": [
       "Inf"
      ],
      "text/latex": [
       "Inf"
      ],
      "text/markdown": [
       "Inf"
      ],
      "text/plain": [
       "[1] Inf"
      ]
     },
     "metadata": {},
     "output_type": "display_data"
    }
   ],
   "source": [
    "1/0"
   ]
  },
  {
   "cell_type": "code",
   "execution_count": 13,
   "metadata": {
    "collapsed": true,
    "deletable": true,
    "editable": true
   },
   "outputs": [],
   "source": [
    "y=789"
   ]
  },
  {
   "cell_type": "code",
   "execution_count": 14,
   "metadata": {
    "collapsed": false,
    "deletable": true,
    "editable": true
   },
   "outputs": [
    {
     "data": {
      "text/html": [
       "TRUE"
      ],
      "text/latex": [
       "TRUE"
      ],
      "text/markdown": [
       "TRUE"
      ],
      "text/plain": [
       "[1] TRUE"
      ]
     },
     "metadata": {},
     "output_type": "display_data"
    }
   ],
   "source": [
    "y==789"
   ]
  },
  {
   "cell_type": "code",
   "execution_count": 15,
   "metadata": {
    "collapsed": true,
    "deletable": true,
    "editable": true
   },
   "outputs": [],
   "source": [
    "a=\"asd\""
   ]
  },
  {
   "cell_type": "code",
   "execution_count": 16,
   "metadata": {
    "collapsed": true,
    "deletable": true,
    "editable": true
   },
   "outputs": [],
   "source": [
    "a=T\n"
   ]
  },
  {
   "cell_type": "code",
   "execution_count": 17,
   "metadata": {
    "collapsed": false,
    "deletable": true,
    "editable": true
   },
   "outputs": [
    {
     "data": {
      "text/html": [
       "TRUE"
      ],
      "text/latex": [
       "TRUE"
      ],
      "text/markdown": [
       "TRUE"
      ],
      "text/plain": [
       "[1] TRUE"
      ]
     },
     "metadata": {},
     "output_type": "display_data"
    }
   ],
   "source": [
    "a"
   ]
  },
  {
   "cell_type": "code",
   "execution_count": 18,
   "metadata": {
    "collapsed": false,
    "deletable": true,
    "editable": true
   },
   "outputs": [
    {
     "ename": "ERROR",
     "evalue": "Error in eval(expr, envir, enclos): object 'R' not found\n",
     "output_type": "error",
     "traceback": [
      "Error in eval(expr, envir, enclos): object 'R' not found\nTraceback:\n"
     ]
    }
   ],
   "source": [
    "a=R"
   ]
  },
  {
   "cell_type": "code",
   "execution_count": 19,
   "metadata": {
    "collapsed": false,
    "deletable": true,
    "editable": true
   },
   "outputs": [
    {
     "data": {
      "text/html": [
       "4"
      ],
      "text/latex": [
       "4"
      ],
      "text/markdown": [
       "4"
      ],
      "text/plain": [
       "[1] 4"
      ]
     },
     "metadata": {},
     "output_type": "display_data"
    }
   ],
   "source": [
    "a*4"
   ]
  },
  {
   "cell_type": "code",
   "execution_count": 20,
   "metadata": {
    "collapsed": true,
    "deletable": true,
    "editable": true
   },
   "outputs": [],
   "source": [
    "a=\"asd\""
   ]
  },
  {
   "cell_type": "code",
   "execution_count": 21,
   "metadata": {
    "collapsed": false,
    "deletable": true,
    "editable": true
   },
   "outputs": [
    {
     "ename": "ERROR",
     "evalue": "Error in a * 5: non-numeric argument to binary operator\n",
     "output_type": "error",
     "traceback": [
      "Error in a * 5: non-numeric argument to binary operator\nTraceback:\n"
     ]
    }
   ],
   "source": [
    "a*5"
   ]
  },
  {
   "cell_type": "code",
   "execution_count": 22,
   "metadata": {
    "collapsed": false,
    "deletable": true,
    "editable": true
   },
   "outputs": [
    {
     "ename": "ERROR",
     "evalue": "Error in a + \"d\": non-numeric argument to binary operator\n",
     "output_type": "error",
     "traceback": [
      "Error in a + \"d\": non-numeric argument to binary operator\nTraceback:\n"
     ]
    }
   ],
   "source": [
    "a+\"d\""
   ]
  },
  {
   "cell_type": "code",
   "execution_count": 23,
   "metadata": {
    "collapsed": true,
    "deletable": true,
    "editable": true
   },
   "outputs": [],
   "source": [
    "a=2"
   ]
  },
  {
   "cell_type": "code",
   "execution_count": 24,
   "metadata": {
    "collapsed": true,
    "deletable": true,
    "editable": true
   },
   "outputs": [],
   "source": [
    "b=4"
   ]
  },
  {
   "cell_type": "code",
   "execution_count": 25,
   "metadata": {
    "collapsed": false,
    "deletable": true,
    "editable": true
   },
   "outputs": [
    {
     "ename": "ERROR",
     "evalue": "Error in parse(text = x, srcfile = src): <text>:1:3: unexpected ','\n1: (a,\n      ^\n",
     "output_type": "error",
     "traceback": [
      "Error in parse(text = x, srcfile = src): <text>:1:3: unexpected ','\n1: (a,\n      ^\nTraceback:\n"
     ]
    }
   ],
   "source": [
    "(a,b)"
   ]
  },
  {
   "cell_type": "code",
   "execution_count": 26,
   "metadata": {
    "collapsed": false,
    "deletable": true,
    "editable": true
   },
   "outputs": [
    {
     "data": {
      "text/html": [
       "<ol class=list-inline>\n",
       "\t<li>2</li>\n",
       "\t<li>4</li>\n",
       "</ol>\n"
      ],
      "text/latex": [
       "\\begin{enumerate*}\n",
       "\\item 2\n",
       "\\item 4\n",
       "\\end{enumerate*}\n"
      ],
      "text/markdown": [
       "1. 2\n",
       "2. 4\n",
       "\n",
       "\n"
      ],
      "text/plain": [
       "[1] 2 4"
      ]
     },
     "metadata": {},
     "output_type": "display_data"
    }
   ],
   "source": [
    "c(a,b)"
   ]
  },
  {
   "cell_type": "code",
   "execution_count": 27,
   "metadata": {
    "collapsed": false,
    "deletable": true,
    "editable": true
   },
   "outputs": [
    {
     "ename": "ERROR",
     "evalue": "Error in parse(text = x, srcfile = src): <text>:1:3: unexpected input\n1: x=_\n      ^\n",
     "output_type": "error",
     "traceback": [
      "Error in parse(text = x, srcfile = src): <text>:1:3: unexpected input\n1: x=_\n      ^\nTraceback:\n"
     ]
    }
   ],
   "source": [
    "x=_"
   ]
  },
  {
   "cell_type": "code",
   "execution_count": 28,
   "metadata": {
    "collapsed": true,
    "deletable": true,
    "editable": true
   },
   "outputs": [],
   "source": [
    "x=c(a,b)"
   ]
  },
  {
   "cell_type": "code",
   "execution_count": 29,
   "metadata": {
    "collapsed": false,
    "deletable": true,
    "editable": true
   },
   "outputs": [
    {
     "ename": "ERROR",
     "evalue": "Error in parse(text = x, srcfile = src): <text>:1:3: unexpected '='\n1: x+=\n      ^\n",
     "output_type": "error",
     "traceback": [
      "Error in parse(text = x, srcfile = src): <text>:1:3: unexpected '='\n1: x+=\n      ^\nTraceback:\n"
     ]
    }
   ],
   "source": [
    "x+=5"
   ]
  },
  {
   "cell_type": "code",
   "execution_count": 30,
   "metadata": {
    "collapsed": false,
    "deletable": true,
    "editable": true
   },
   "outputs": [
    {
     "data": {
      "text/html": [
       "<ol class=list-inline>\n",
       "\t<li>2</li>\n",
       "\t<li>4</li>\n",
       "</ol>\n"
      ],
      "text/latex": [
       "\\begin{enumerate*}\n",
       "\\item 2\n",
       "\\item 4\n",
       "\\end{enumerate*}\n"
      ],
      "text/markdown": [
       "1. 2\n",
       "2. 4\n",
       "\n",
       "\n"
      ],
      "text/plain": [
       "[1] 2 4"
      ]
     },
     "metadata": {},
     "output_type": "display_data"
    }
   ],
   "source": [
    "x\n"
   ]
  },
  {
   "cell_type": "code",
   "execution_count": 31,
   "metadata": {
    "collapsed": false,
    "deletable": true,
    "editable": true
   },
   "outputs": [
    {
     "data": {
      "text/html": [
       "<ol class=list-inline>\n",
       "\t<li>7</li>\n",
       "\t<li>9</li>\n",
       "</ol>\n"
      ],
      "text/latex": [
       "\\begin{enumerate*}\n",
       "\\item 7\n",
       "\\item 9\n",
       "\\end{enumerate*}\n"
      ],
      "text/markdown": [
       "1. 7\n",
       "2. 9\n",
       "\n",
       "\n"
      ],
      "text/plain": [
       "[1] 7 9"
      ]
     },
     "metadata": {},
     "output_type": "display_data"
    }
   ],
   "source": [
    "x+5"
   ]
  },
  {
   "cell_type": "code",
   "execution_count": 32,
   "metadata": {
    "collapsed": false,
    "deletable": true,
    "editable": true
   },
   "outputs": [
    {
     "data": {
      "text/html": [],
      "text/latex": [],
      "text/markdown": [],
      "text/plain": [
       "numeric(0)"
      ]
     },
     "metadata": {},
     "output_type": "display_data"
    }
   ],
   "source": [
    "x[0]"
   ]
  },
  {
   "cell_type": "code",
   "execution_count": 33,
   "metadata": {
    "collapsed": false,
    "deletable": true,
    "editable": true
   },
   "outputs": [
    {
     "data": {
      "text/html": [
       "2"
      ],
      "text/latex": [
       "2"
      ],
      "text/markdown": [
       "2"
      ],
      "text/plain": [
       "[1] 2"
      ]
     },
     "metadata": {},
     "output_type": "display_data"
    }
   ],
   "source": [
    "x[1]"
   ]
  },
  {
   "cell_type": "code",
   "execution_count": 34,
   "metadata": {
    "collapsed": false,
    "deletable": true,
    "editable": true
   },
   "outputs": [
    {
     "ename": "ERROR",
     "evalue": "Error in parse(text = x, srcfile = src): <text>:1:1: unexpected ':'\n1: :\n    ^\n",
     "output_type": "error",
     "traceback": [
      "Error in parse(text = x, srcfile = src): <text>:1:1: unexpected ':'\n1: :\n    ^\nTraceback:\n"
     ]
    }
   ],
   "source": [
    ":4"
   ]
  },
  {
   "cell_type": "code",
   "execution_count": 35,
   "metadata": {
    "collapsed": false,
    "deletable": true,
    "editable": true
   },
   "outputs": [
    {
     "data": {
      "text/html": [
       "<ol class=list-inline>\n",
       "\t<li>0</li>\n",
       "\t<li>1</li>\n",
       "\t<li>2</li>\n",
       "\t<li>3</li>\n",
       "\t<li>4</li>\n",
       "\t<li>5</li>\n",
       "\t<li>6</li>\n",
       "\t<li>7</li>\n",
       "\t<li>8</li>\n",
       "\t<li>9</li>\n",
       "\t<li>10</li>\n",
       "</ol>\n"
      ],
      "text/latex": [
       "\\begin{enumerate*}\n",
       "\\item 0\n",
       "\\item 1\n",
       "\\item 2\n",
       "\\item 3\n",
       "\\item 4\n",
       "\\item 5\n",
       "\\item 6\n",
       "\\item 7\n",
       "\\item 8\n",
       "\\item 9\n",
       "\\item 10\n",
       "\\end{enumerate*}\n"
      ],
      "text/markdown": [
       "1. 0\n",
       "2. 1\n",
       "3. 2\n",
       "4. 3\n",
       "5. 4\n",
       "6. 5\n",
       "7. 6\n",
       "8. 7\n",
       "9. 8\n",
       "10. 9\n",
       "11. 10\n",
       "\n",
       "\n"
      ],
      "text/plain": [
       " [1]  0  1  2  3  4  5  6  7  8  9 10"
      ]
     },
     "metadata": {},
     "output_type": "display_data"
    }
   ],
   "source": [
    "0:10"
   ]
  },
  {
   "cell_type": "code",
   "execution_count": 36,
   "metadata": {
    "collapsed": true,
    "deletable": true,
    "editable": true
   },
   "outputs": [],
   "source": [
    "x=c(2,3)"
   ]
  },
  {
   "cell_type": "code",
   "execution_count": 37,
   "metadata": {
    "collapsed": true,
    "deletable": true,
    "editable": true
   },
   "outputs": [],
   "source": [
    "y=c(5,6)"
   ]
  },
  {
   "cell_type": "code",
   "execution_count": 38,
   "metadata": {
    "collapsed": false,
    "deletable": true,
    "editable": true
   },
   "outputs": [
    {
     "data": {
      "text/html": [
       "<ol class=list-inline>\n",
       "\t<li>7</li>\n",
       "\t<li>9</li>\n",
       "</ol>\n"
      ],
      "text/latex": [
       "\\begin{enumerate*}\n",
       "\\item 7\n",
       "\\item 9\n",
       "\\end{enumerate*}\n"
      ],
      "text/markdown": [
       "1. 7\n",
       "2. 9\n",
       "\n",
       "\n"
      ],
      "text/plain": [
       "[1] 7 9"
      ]
     },
     "metadata": {},
     "output_type": "display_data"
    }
   ],
   "source": [
    "x+y"
   ]
  },
  {
   "cell_type": "code",
   "execution_count": 39,
   "metadata": {
    "collapsed": false,
    "deletable": true,
    "editable": true
   },
   "outputs": [
    {
     "data": {
      "text/html": [
       "2"
      ],
      "text/latex": [
       "2"
      ],
      "text/markdown": [
       "2"
      ],
      "text/plain": [
       "[1] 2"
      ]
     },
     "metadata": {},
     "output_type": "display_data"
    }
   ],
   "source": [
    "length(x+y)"
   ]
  },
  {
   "cell_type": "code",
   "execution_count": 40,
   "metadata": {
    "collapsed": false,
    "deletable": true,
    "editable": true
   },
   "outputs": [
    {
     "data": {
      "text/html": [
       "'numeric'"
      ],
      "text/latex": [
       "'numeric'"
      ],
      "text/markdown": [
       "'numeric'"
      ],
      "text/plain": [
       "[1] \"numeric\""
      ]
     },
     "metadata": {},
     "output_type": "display_data"
    }
   ],
   "source": [
    "class(x)"
   ]
  },
  {
   "cell_type": "code",
   "execution_count": 41,
   "metadata": {
    "collapsed": false,
    "deletable": true,
    "editable": true
   },
   "outputs": [
    {
     "data": {
      "text/html": [
       "FALSE"
      ],
      "text/latex": [
       "FALSE"
      ],
      "text/markdown": [
       "FALSE"
      ],
      "text/plain": [
       "[1] FALSE"
      ]
     },
     "metadata": {},
     "output_type": "display_data"
    }
   ],
   "source": [
    "is.numeric(\"asd\")"
   ]
  },
  {
   "cell_type": "code",
   "execution_count": 42,
   "metadata": {
    "collapsed": true,
    "deletable": true,
    "editable": true
   },
   "outputs": [],
   "source": [
    "x=0:10"
   ]
  },
  {
   "cell_type": "code",
   "execution_count": 43,
   "metadata": {
    "collapsed": false,
    "deletable": true,
    "editable": true
   },
   "outputs": [
    {
     "data": {
      "text/html": [
       "<ol class=list-inline>\n",
       "\t<li>0</li>\n",
       "\t<li>1</li>\n",
       "\t<li>2</li>\n",
       "\t<li>3</li>\n",
       "\t<li>4</li>\n",
       "\t<li>5</li>\n",
       "\t<li>6</li>\n",
       "\t<li>7</li>\n",
       "\t<li>8</li>\n",
       "\t<li>9</li>\n",
       "\t<li>10</li>\n",
       "</ol>\n"
      ],
      "text/latex": [
       "\\begin{enumerate*}\n",
       "\\item 0\n",
       "\\item 1\n",
       "\\item 2\n",
       "\\item 3\n",
       "\\item 4\n",
       "\\item 5\n",
       "\\item 6\n",
       "\\item 7\n",
       "\\item 8\n",
       "\\item 9\n",
       "\\item 10\n",
       "\\end{enumerate*}\n"
      ],
      "text/markdown": [
       "1. 0\n",
       "2. 1\n",
       "3. 2\n",
       "4. 3\n",
       "5. 4\n",
       "6. 5\n",
       "7. 6\n",
       "8. 7\n",
       "9. 8\n",
       "10. 9\n",
       "11. 10\n",
       "\n",
       "\n"
      ],
      "text/plain": [
       " [1]  0  1  2  3  4  5  6  7  8  9 10"
      ]
     },
     "metadata": {},
     "output_type": "display_data"
    }
   ],
   "source": [
    "x"
   ]
  },
  {
   "cell_type": "code",
   "execution_count": 44,
   "metadata": {
    "collapsed": false,
    "deletable": true,
    "editable": true
   },
   "outputs": [
    {
     "data": {
      "text/html": [
       "<ol class=list-inline>\n",
       "\t<li>2</li>\n",
       "\t<li>3</li>\n",
       "</ol>\n"
      ],
      "text/latex": [
       "\\begin{enumerate*}\n",
       "\\item 2\n",
       "\\item 3\n",
       "\\end{enumerate*}\n"
      ],
      "text/markdown": [
       "1. 2\n",
       "2. 3\n",
       "\n",
       "\n"
      ],
      "text/plain": [
       "[1] 2 3"
      ]
     },
     "metadata": {},
     "output_type": "display_data"
    }
   ],
   "source": [
    "x[3:4]"
   ]
  },
  {
   "cell_type": "code",
   "execution_count": 46,
   "metadata": {
    "collapsed": true,
    "deletable": true,
    "editable": true
   },
   "outputs": [],
   "source": [
    "length(x)=1"
   ]
  },
  {
   "cell_type": "code",
   "execution_count": 47,
   "metadata": {
    "collapsed": false,
    "deletable": true,
    "editable": true
   },
   "outputs": [
    {
     "data": {
      "text/html": [
       "0"
      ],
      "text/latex": [
       "0"
      ],
      "text/markdown": [
       "0"
      ],
      "text/plain": [
       "[1] 0"
      ]
     },
     "metadata": {},
     "output_type": "display_data"
    }
   ],
   "source": [
    "x"
   ]
  },
  {
   "cell_type": "code",
   "execution_count": 48,
   "metadata": {
    "collapsed": false,
    "deletable": true,
    "editable": true
   },
   "outputs": [
    {
     "data": {
      "text/html": [
       "0"
      ],
      "text/latex": [
       "0"
      ],
      "text/markdown": [
       "0"
      ],
      "text/plain": [
       "[1] 0"
      ]
     },
     "metadata": {},
     "output_type": "display_data"
    }
   ],
   "source": [
    "x"
   ]
  },
  {
   "cell_type": "code",
   "execution_count": 49,
   "metadata": {
    "collapsed": false,
    "deletable": true,
    "editable": true
   },
   "outputs": [
    {
     "ename": "ERROR",
     "evalue": "Error in parse(text = x, srcfile = src): <text>:1:3: unexpected '['\n1: x=[\n      ^\n",
     "output_type": "error",
     "traceback": [
      "Error in parse(text = x, srcfile = src): <text>:1:3: unexpected '['\n1: x=[\n      ^\nTraceback:\n"
     ]
    }
   ],
   "source": [
    "x=[1,2]"
   ]
  },
  {
   "cell_type": "code",
   "execution_count": 50,
   "metadata": {
    "collapsed": false,
    "deletable": true,
    "editable": true
   },
   "outputs": [
    {
     "data": {
      "text/html": [
       "<pre class=language-r><code>function (..., list = character(), package = NULL, lib.loc = NULL, \n",
       "<span style=white-space:pre-wrap>    verbose = getOption(\"verbose\"), envir = .GlobalEnv) </span>\n",
       "{\n",
       "<span style=white-space:pre-wrap>    fileExt &lt;- function(x) {</span>\n",
       "<span style=white-space:pre-wrap>        db &lt;- grepl(\"\\\\.[^.]+\\\\.(gz|bz2|xz)$\", x)</span>\n",
       "<span style=white-space:pre-wrap>        ans &lt;- sub(\".*\\\\.\", \"\", x)</span>\n",
       "<span style=white-space:pre-wrap>        ans[db] &lt;- sub(\".*\\\\.([^.]+\\\\.)(gz|bz2|xz)$\", \"\\\\1\\\\2\", </span>\n",
       "<span style=white-space:pre-wrap>            x[db])</span>\n",
       "<span style=white-space:pre-wrap>        ans</span>\n",
       "<span style=white-space:pre-wrap>    }</span>\n",
       "<span style=white-space:pre-wrap>    names &lt;- c(as.character(substitute(list(...))[-1L]), list)</span>\n",
       "<span style=white-space:pre-wrap>    if (!is.null(package)) {</span>\n",
       "<span style=white-space:pre-wrap>        if (!is.character(package)) </span>\n",
       "<span style=white-space:pre-wrap>            stop(\"'package' must be a character string or NULL\")</span>\n",
       "<span style=white-space:pre-wrap>        if (any(package %in% \"base\")) </span>\n",
       "<span style=white-space:pre-wrap>            warning(\"datasets have been moved from package 'base' to package 'datasets'\")</span>\n",
       "<span style=white-space:pre-wrap>        if (any(package %in% \"stats\")) </span>\n",
       "<span style=white-space:pre-wrap>            warning(\"datasets have been moved from package 'stats' to package 'datasets'\")</span>\n",
       "<span style=white-space:pre-wrap>        package[package %in% c(\"base\", \"stats\")] &lt;- \"datasets\"</span>\n",
       "<span style=white-space:pre-wrap>    }</span>\n",
       "<span style=white-space:pre-wrap>    paths &lt;- find.package(package, lib.loc, verbose = verbose)</span>\n",
       "<span style=white-space:pre-wrap>    if (is.null(lib.loc)) </span>\n",
       "<span style=white-space:pre-wrap>        paths &lt;- c(path.package(package, TRUE), if (!length(package)) getwd(), </span>\n",
       "<span style=white-space:pre-wrap>            paths)</span>\n",
       "<span style=white-space:pre-wrap>    paths &lt;- unique(normalizePath(paths[file.exists(paths)]))</span>\n",
       "<span style=white-space:pre-wrap>    paths &lt;- paths[dir.exists(file.path(paths, \"data\"))]</span>\n",
       "<span style=white-space:pre-wrap>    dataExts &lt;- tools:::.make_file_exts(\"data\")</span>\n",
       "<span style=white-space:pre-wrap>    if (length(names) == 0L) {</span>\n",
       "<span style=white-space:pre-wrap>        db &lt;- matrix(character(), nrow = 0L, ncol = 4L)</span>\n",
       "<span style=white-space:pre-wrap>        for (path in paths) {</span>\n",
       "<span style=white-space:pre-wrap>            entries &lt;- NULL</span>\n",
       "<span style=white-space:pre-wrap>            packageName &lt;- if (file_test(\"-f\", file.path(path, </span>\n",
       "<span style=white-space:pre-wrap>                \"DESCRIPTION\"))) </span>\n",
       "<span style=white-space:pre-wrap>                basename(path)</span>\n",
       "<span style=white-space:pre-wrap>            else \".\"</span>\n",
       "<span style=white-space:pre-wrap>            if (file_test(\"-f\", INDEX &lt;- file.path(path, \"Meta\", </span>\n",
       "<span style=white-space:pre-wrap>                \"data.rds\"))) {</span>\n",
       "<span style=white-space:pre-wrap>                entries &lt;- readRDS(INDEX)</span>\n",
       "<span style=white-space:pre-wrap>            }</span>\n",
       "<span style=white-space:pre-wrap>            else {</span>\n",
       "<span style=white-space:pre-wrap>                dataDir &lt;- file.path(path, \"data\")</span>\n",
       "<span style=white-space:pre-wrap>                entries &lt;- tools::list_files_with_type(dataDir, </span>\n",
       "<span style=white-space:pre-wrap>                  \"data\")</span>\n",
       "<span style=white-space:pre-wrap>                if (length(entries)) {</span>\n",
       "<span style=white-space:pre-wrap>                  entries &lt;- unique(tools::file_path_sans_ext(basename(entries)))</span>\n",
       "<span style=white-space:pre-wrap>                  entries &lt;- cbind(entries, \"\")</span>\n",
       "<span style=white-space:pre-wrap>                }</span>\n",
       "<span style=white-space:pre-wrap>            }</span>\n",
       "<span style=white-space:pre-wrap>            if (NROW(entries)) {</span>\n",
       "<span style=white-space:pre-wrap>                if (is.matrix(entries) &amp;&amp; ncol(entries) == 2L) </span>\n",
       "<span style=white-space:pre-wrap>                  db &lt;- rbind(db, cbind(packageName, dirname(path), </span>\n",
       "<span style=white-space:pre-wrap>                    entries))</span>\n",
       "<span style=white-space:pre-wrap>                else warning(gettextf(\"data index for package %s is invalid and will be ignored\", </span>\n",
       "<span style=white-space:pre-wrap>                  sQuote(packageName)), domain = NA, call. = FALSE)</span>\n",
       "<span style=white-space:pre-wrap>            }</span>\n",
       "<span style=white-space:pre-wrap>        }</span>\n",
       "<span style=white-space:pre-wrap>        colnames(db) &lt;- c(\"Package\", \"LibPath\", \"Item\", \"Title\")</span>\n",
       "<span style=white-space:pre-wrap>        footer &lt;- if (missing(package)) </span>\n",
       "<span style=white-space:pre-wrap>            paste0(\"Use \", sQuote(paste(\"data(package =\", \".packages(all.available = TRUE))\")), </span>\n",
       "<span style=white-space:pre-wrap>                \"\\n\", \"to list the data sets in all *available* packages.\")</span>\n",
       "<span style=white-space:pre-wrap>        else NULL</span>\n",
       "<span style=white-space:pre-wrap>        y &lt;- list(title = \"Data sets\", header = NULL, results = db, </span>\n",
       "<span style=white-space:pre-wrap>            footer = footer)</span>\n",
       "<span style=white-space:pre-wrap>        class(y) &lt;- \"packageIQR\"</span>\n",
       "<span style=white-space:pre-wrap>        return(y)</span>\n",
       "<span style=white-space:pre-wrap>    }</span>\n",
       "<span style=white-space:pre-wrap>    paths &lt;- file.path(paths, \"data\")</span>\n",
       "<span style=white-space:pre-wrap>    for (name in names) {</span>\n",
       "<span style=white-space:pre-wrap>        found &lt;- FALSE</span>\n",
       "<span style=white-space:pre-wrap>        for (p in paths) {</span>\n",
       "<span style=white-space:pre-wrap>            if (file_test(\"-f\", file.path(p, \"Rdata.rds\"))) {</span>\n",
       "<span style=white-space:pre-wrap>                rds &lt;- readRDS(file.path(p, \"Rdata.rds\"))</span>\n",
       "<span style=white-space:pre-wrap>                if (name %in% names(rds)) {</span>\n",
       "<span style=white-space:pre-wrap>                  found &lt;- TRUE</span>\n",
       "<span style=white-space:pre-wrap>                  if (verbose) </span>\n",
       "<span style=white-space:pre-wrap>                    message(sprintf(\"name=%s:\\t found in Rdata.rds\", </span>\n",
       "<span style=white-space:pre-wrap>                      name), domain = NA)</span>\n",
       "<span style=white-space:pre-wrap>                  thispkg &lt;- sub(\".*/([^/]*)/data$\", \"\\\\1\", p)</span>\n",
       "<span style=white-space:pre-wrap>                  thispkg &lt;- sub(\"_.*$\", \"\", thispkg)</span>\n",
       "<span style=white-space:pre-wrap>                  thispkg &lt;- paste0(\"package:\", thispkg)</span>\n",
       "<span style=white-space:pre-wrap>                  objs &lt;- rds[[name]]</span>\n",
       "<span style=white-space:pre-wrap>                  lazyLoad(file.path(p, \"Rdata\"), envir = envir, </span>\n",
       "<span style=white-space:pre-wrap>                    filter = function(x) x %in% objs)</span>\n",
       "<span style=white-space:pre-wrap>                  break</span>\n",
       "<span style=white-space:pre-wrap>                }</span>\n",
       "<span style=white-space:pre-wrap>                else if (verbose) </span>\n",
       "<span style=white-space:pre-wrap>                  message(sprintf(\"name=%s:\\t NOT found in names() of Rdata.rds, i.e.,\\n\\t%s\\n\", </span>\n",
       "<span style=white-space:pre-wrap>                    name, paste(names(rds), collapse = \",\")), </span>\n",
       "<span style=white-space:pre-wrap>                    domain = NA)</span>\n",
       "<span style=white-space:pre-wrap>            }</span>\n",
       "<span style=white-space:pre-wrap>            if (file_test(\"-f\", file.path(p, \"Rdata.zip\"))) {</span>\n",
       "<span style=white-space:pre-wrap>                warning(\"zipped data found for package \", sQuote(basename(dirname(p))), </span>\n",
       "<span style=white-space:pre-wrap>                  \".\\nThat is defunct, so please re-install the package.\", </span>\n",
       "<span style=white-space:pre-wrap>                  domain = NA)</span>\n",
       "<span style=white-space:pre-wrap>                if (file_test(\"-f\", fp &lt;- file.path(p, \"filelist\"))) </span>\n",
       "<span style=white-space:pre-wrap>                  files &lt;- file.path(p, scan(fp, what = \"\", quiet = TRUE))</span>\n",
       "<span style=white-space:pre-wrap>                else {</span>\n",
       "<span style=white-space:pre-wrap>                  warning(gettextf(\"file 'filelist' is missing for directory %s\", </span>\n",
       "<span style=white-space:pre-wrap>                    sQuote(p)), domain = NA)</span>\n",
       "<span style=white-space:pre-wrap>                  next</span>\n",
       "<span style=white-space:pre-wrap>                }</span>\n",
       "<span style=white-space:pre-wrap>            }</span>\n",
       "<span style=white-space:pre-wrap>            else {</span>\n",
       "<span style=white-space:pre-wrap>                files &lt;- list.files(p, full.names = TRUE)</span>\n",
       "<span style=white-space:pre-wrap>            }</span>\n",
       "<span style=white-space:pre-wrap>            files &lt;- files[grep(name, files, fixed = TRUE)]</span>\n",
       "<span style=white-space:pre-wrap>            if (length(files) &gt; 1L) {</span>\n",
       "<span style=white-space:pre-wrap>                o &lt;- match(fileExt(files), dataExts, nomatch = 100L)</span>\n",
       "<span style=white-space:pre-wrap>                paths0 &lt;- dirname(files)</span>\n",
       "<span style=white-space:pre-wrap>                paths0 &lt;- factor(paths0, levels = unique(paths0))</span>\n",
       "<span style=white-space:pre-wrap>                files &lt;- files[order(paths0, o)]</span>\n",
       "<span style=white-space:pre-wrap>            }</span>\n",
       "<span style=white-space:pre-wrap>            if (length(files)) {</span>\n",
       "<span style=white-space:pre-wrap>                for (file in files) {</span>\n",
       "<span style=white-space:pre-wrap>                  if (verbose) </span>\n",
       "<span style=white-space:pre-wrap>                    message(\"name=\", name, \":\\t file= ...\", .Platform$file.sep, </span>\n",
       "<span style=white-space:pre-wrap>                      basename(file), \"::\\t\", appendLF = FALSE, </span>\n",
       "<span style=white-space:pre-wrap>                      domain = NA)</span>\n",
       "<span style=white-space:pre-wrap>                  ext &lt;- fileExt(file)</span>\n",
       "<span style=white-space:pre-wrap>                  if (basename(file) != paste0(name, \".\", ext)) </span>\n",
       "<span style=white-space:pre-wrap>                    found &lt;- FALSE</span>\n",
       "<span style=white-space:pre-wrap>                  else {</span>\n",
       "<span style=white-space:pre-wrap>                    found &lt;- TRUE</span>\n",
       "<span style=white-space:pre-wrap>                    zfile &lt;- file</span>\n",
       "<span style=white-space:pre-wrap>                    zipname &lt;- file.path(dirname(file), \"Rdata.zip\")</span>\n",
       "<span style=white-space:pre-wrap>                    if (file.exists(zipname)) {</span>\n",
       "<span style=white-space:pre-wrap>                      Rdatadir &lt;- tempfile(\"Rdata\")</span>\n",
       "<span style=white-space:pre-wrap>                      dir.create(Rdatadir, showWarnings = FALSE)</span>\n",
       "<span style=white-space:pre-wrap>                      topic &lt;- basename(file)</span>\n",
       "<span style=white-space:pre-wrap>                      rc &lt;- .External(C_unzip, zipname, topic, </span>\n",
       "<span style=white-space:pre-wrap>                        Rdatadir, FALSE, TRUE, FALSE, FALSE)</span>\n",
       "<span style=white-space:pre-wrap>                      if (rc == 0L) </span>\n",
       "<span style=white-space:pre-wrap>                        zfile &lt;- file.path(Rdatadir, topic)</span>\n",
       "<span style=white-space:pre-wrap>                    }</span>\n",
       "<span style=white-space:pre-wrap>                    if (zfile != file) </span>\n",
       "<span style=white-space:pre-wrap>                      on.exit(unlink(zfile))</span>\n",
       "<span style=white-space:pre-wrap>                    switch(ext, R = , r = {</span>\n",
       "<span style=white-space:pre-wrap>                      library(\"utils\")</span>\n",
       "<span style=white-space:pre-wrap>                      sys.source(zfile, chdir = TRUE, envir = envir)</span>\n",
       "<span style=white-space:pre-wrap>                    }, RData = , rdata = , rda = load(zfile, </span>\n",
       "<span style=white-space:pre-wrap>                      envir = envir), TXT = , txt = , tab = , </span>\n",
       "<span style=white-space:pre-wrap>                      tab.gz = , tab.bz2 = , tab.xz = , txt.gz = , </span>\n",
       "<span style=white-space:pre-wrap>                      txt.bz2 = , txt.xz = assign(name, read.table(zfile, </span>\n",
       "<span style=white-space:pre-wrap>                        header = TRUE, as.is = FALSE), envir = envir), </span>\n",
       "<span style=white-space:pre-wrap>                      CSV = , csv = , csv.gz = , csv.bz2 = , </span>\n",
       "<span style=white-space:pre-wrap>                      csv.xz = assign(name, read.table(zfile, </span>\n",
       "<span style=white-space:pre-wrap>                        header = TRUE, sep = \";\", as.is = FALSE), </span>\n",
       "<span style=white-space:pre-wrap>                        envir = envir), found &lt;- FALSE)</span>\n",
       "<span style=white-space:pre-wrap>                  }</span>\n",
       "<span style=white-space:pre-wrap>                  if (found) </span>\n",
       "<span style=white-space:pre-wrap>                    break</span>\n",
       "<span style=white-space:pre-wrap>                }</span>\n",
       "<span style=white-space:pre-wrap>                if (verbose) </span>\n",
       "<span style=white-space:pre-wrap>                  message(if (!found) </span>\n",
       "<span style=white-space:pre-wrap>                    \"*NOT* \", \"found\", domain = NA)</span>\n",
       "<span style=white-space:pre-wrap>            }</span>\n",
       "<span style=white-space:pre-wrap>            if (found) </span>\n",
       "<span style=white-space:pre-wrap>                break</span>\n",
       "<span style=white-space:pre-wrap>        }</span>\n",
       "<span style=white-space:pre-wrap>        if (!found) </span>\n",
       "<span style=white-space:pre-wrap>            warning(gettextf(\"data set %s not found\", sQuote(name)), </span>\n",
       "<span style=white-space:pre-wrap>                domain = NA)</span>\n",
       "<span style=white-space:pre-wrap>    }</span>\n",
       "<span style=white-space:pre-wrap>    invisible(names)</span>\n",
       "}</code></pre>"
      ],
      "text/latex": [
       "\\begin{minted}{r}\n",
       "function (..., list = character(), package = NULL, lib.loc = NULL, \n",
       "    verbose = getOption(\"verbose\"), envir = .GlobalEnv) \n",
       "\\{\n",
       "    fileExt <- function(x) \\{\n",
       "        db <- grepl(\"\\textbackslash{}\\textbackslash{}.{[}\\textasciicircum{}.{]}+\\textbackslash{}\\textbackslash{}.(gz\\textbar{}bz2\\textbar{}xz)\\$\", x)\n",
       "        ans <- sub(\".*\\textbackslash{}\\textbackslash{}.\", \"\", x)\n",
       "        ans{[}db{]} <- sub(\".*\\textbackslash{}\\textbackslash{}.({[}\\textasciicircum{}.{]}+\\textbackslash{}\\textbackslash{}.)(gz\\textbar{}bz2\\textbar{}xz)\\$\", \"\\textbackslash{}\\textbackslash{}1\\textbackslash{}\\textbackslash{}2\", \n",
       "            x{[}db{]})\n",
       "        ans\n",
       "    \\}\n",
       "    names <- c(as.character(substitute(list(...)){[}-1L{]}), list)\n",
       "    if (!is.null(package)) \\{\n",
       "        if (!is.character(package)) \n",
       "            stop(\"'package' must be a character string or NULL\")\n",
       "        if (any(package \\%in\\% \"base\")) \n",
       "            warning(\"datasets have been moved from package 'base' to package 'datasets'\")\n",
       "        if (any(package \\%in\\% \"stats\")) \n",
       "            warning(\"datasets have been moved from package 'stats' to package 'datasets'\")\n",
       "        package{[}package \\%in\\% c(\"base\", \"stats\"){]} <- \"datasets\"\n",
       "    \\}\n",
       "    paths <- find.package(package, lib.loc, verbose = verbose)\n",
       "    if (is.null(lib.loc)) \n",
       "        paths <- c(path.package(package, TRUE), if (!length(package)) getwd(), \n",
       "            paths)\n",
       "    paths <- unique(normalizePath(paths{[}file.exists(paths){]}))\n",
       "    paths <- paths{[}dir.exists(file.path(paths, \"data\")){]}\n",
       "    dataExts <- tools:::.make\\_file\\_exts(\"data\")\n",
       "    if (length(names) == 0L) \\{\n",
       "        db <- matrix(character(), nrow = 0L, ncol = 4L)\n",
       "        for (path in paths) \\{\n",
       "            entries <- NULL\n",
       "            packageName <- if (file\\_test(\"-f\", file.path(path, \n",
       "                \"DESCRIPTION\"))) \n",
       "                basename(path)\n",
       "            else \".\"\n",
       "            if (file\\_test(\"-f\", INDEX <- file.path(path, \"Meta\", \n",
       "                \"data.rds\"))) \\{\n",
       "                entries <- readRDS(INDEX)\n",
       "            \\}\n",
       "            else \\{\n",
       "                dataDir <- file.path(path, \"data\")\n",
       "                entries <- tools::list\\_files\\_with\\_type(dataDir, \n",
       "                  \"data\")\n",
       "                if (length(entries)) \\{\n",
       "                  entries <- unique(tools::file\\_path\\_sans\\_ext(basename(entries)))\n",
       "                  entries <- cbind(entries, \"\")\n",
       "                \\}\n",
       "            \\}\n",
       "            if (NROW(entries)) \\{\n",
       "                if (is.matrix(entries) \\&\\& ncol(entries) == 2L) \n",
       "                  db <- rbind(db, cbind(packageName, dirname(path), \n",
       "                    entries))\n",
       "                else warning(gettextf(\"data index for package \\%s is invalid and will be ignored\", \n",
       "                  sQuote(packageName)), domain = NA, call. = FALSE)\n",
       "            \\}\n",
       "        \\}\n",
       "        colnames(db) <- c(\"Package\", \"LibPath\", \"Item\", \"Title\")\n",
       "        footer <- if (missing(package)) \n",
       "            paste0(\"Use \", sQuote(paste(\"data(package =\", \".packages(all.available = TRUE))\")), \n",
       "                \"\\textbackslash{}n\", \"to list the data sets in all *available* packages.\")\n",
       "        else NULL\n",
       "        y <- list(title = \"Data sets\", header = NULL, results = db, \n",
       "            footer = footer)\n",
       "        class(y) <- \"packageIQR\"\n",
       "        return(y)\n",
       "    \\}\n",
       "    paths <- file.path(paths, \"data\")\n",
       "    for (name in names) \\{\n",
       "        found <- FALSE\n",
       "        for (p in paths) \\{\n",
       "            if (file\\_test(\"-f\", file.path(p, \"Rdata.rds\"))) \\{\n",
       "                rds <- readRDS(file.path(p, \"Rdata.rds\"))\n",
       "                if (name \\%in\\% names(rds)) \\{\n",
       "                  found <- TRUE\n",
       "                  if (verbose) \n",
       "                    message(sprintf(\"name=\\%s:\\textbackslash{}t found in Rdata.rds\", \n",
       "                      name), domain = NA)\n",
       "                  thispkg <- sub(\".*/({[}\\textasciicircum{}/{]}*)/data\\$\", \"\\textbackslash{}\\textbackslash{}1\", p)\n",
       "                  thispkg <- sub(\"\\_.*\\$\", \"\", thispkg)\n",
       "                  thispkg <- paste0(\"package:\", thispkg)\n",
       "                  objs <- rds{[}{[}name{]}{]}\n",
       "                  lazyLoad(file.path(p, \"Rdata\"), envir = envir, \n",
       "                    filter = function(x) x \\%in\\% objs)\n",
       "                  break\n",
       "                \\}\n",
       "                else if (verbose) \n",
       "                  message(sprintf(\"name=\\%s:\\textbackslash{}t NOT found in names() of Rdata.rds, i.e.,\\textbackslash{}n\\textbackslash{}t\\%s\\textbackslash{}n\", \n",
       "                    name, paste(names(rds), collapse = \",\")), \n",
       "                    domain = NA)\n",
       "            \\}\n",
       "            if (file\\_test(\"-f\", file.path(p, \"Rdata.zip\"))) \\{\n",
       "                warning(\"zipped data found for package \", sQuote(basename(dirname(p))), \n",
       "                  \".\\textbackslash{}nThat is defunct, so please re-install the package.\", \n",
       "                  domain = NA)\n",
       "                if (file\\_test(\"-f\", fp <- file.path(p, \"filelist\"))) \n",
       "                  files <- file.path(p, scan(fp, what = \"\", quiet = TRUE))\n",
       "                else \\{\n",
       "                  warning(gettextf(\"file 'filelist' is missing for directory \\%s\", \n",
       "                    sQuote(p)), domain = NA)\n",
       "                  next\n",
       "                \\}\n",
       "            \\}\n",
       "            else \\{\n",
       "                files <- list.files(p, full.names = TRUE)\n",
       "            \\}\n",
       "            files <- files{[}grep(name, files, fixed = TRUE){]}\n",
       "            if (length(files) > 1L) \\{\n",
       "                o <- match(fileExt(files), dataExts, nomatch = 100L)\n",
       "                paths0 <- dirname(files)\n",
       "                paths0 <- factor(paths0, levels = unique(paths0))\n",
       "                files <- files{[}order(paths0, o){]}\n",
       "            \\}\n",
       "            if (length(files)) \\{\n",
       "                for (file in files) \\{\n",
       "                  if (verbose) \n",
       "                    message(\"name=\", name, \":\\textbackslash{}t file= ...\", .Platform\\$file.sep, \n",
       "                      basename(file), \"::\\textbackslash{}t\", appendLF = FALSE, \n",
       "                      domain = NA)\n",
       "                  ext <- fileExt(file)\n",
       "                  if (basename(file) != paste0(name, \".\", ext)) \n",
       "                    found <- FALSE\n",
       "                  else \\{\n",
       "                    found <- TRUE\n",
       "                    zfile <- file\n",
       "                    zipname <- file.path(dirname(file), \"Rdata.zip\")\n",
       "                    if (file.exists(zipname)) \\{\n",
       "                      Rdatadir <- tempfile(\"Rdata\")\n",
       "                      dir.create(Rdatadir, showWarnings = FALSE)\n",
       "                      topic <- basename(file)\n",
       "                      rc <- .External(C\\_unzip, zipname, topic, \n",
       "                        Rdatadir, FALSE, TRUE, FALSE, FALSE)\n",
       "                      if (rc == 0L) \n",
       "                        zfile <- file.path(Rdatadir, topic)\n",
       "                    \\}\n",
       "                    if (zfile != file) \n",
       "                      on.exit(unlink(zfile))\n",
       "                    switch(ext, R = , r = \\{\n",
       "                      library(\"utils\")\n",
       "                      sys.source(zfile, chdir = TRUE, envir = envir)\n",
       "                    \\}, RData = , rdata = , rda = load(zfile, \n",
       "                      envir = envir), TXT = , txt = , tab = , \n",
       "                      tab.gz = , tab.bz2 = , tab.xz = , txt.gz = , \n",
       "                      txt.bz2 = , txt.xz = assign(name, read.table(zfile, \n",
       "                        header = TRUE, as.is = FALSE), envir = envir), \n",
       "                      CSV = , csv = , csv.gz = , csv.bz2 = , \n",
       "                      csv.xz = assign(name, read.table(zfile, \n",
       "                        header = TRUE, sep = \";\", as.is = FALSE), \n",
       "                        envir = envir), found <- FALSE)\n",
       "                  \\}\n",
       "                  if (found) \n",
       "                    break\n",
       "                \\}\n",
       "                if (verbose) \n",
       "                  message(if (!found) \n",
       "                    \"*NOT* \", \"found\", domain = NA)\n",
       "            \\}\n",
       "            if (found) \n",
       "                break\n",
       "        \\}\n",
       "        if (!found) \n",
       "            warning(gettextf(\"data set \\%s not found\", sQuote(name)), \n",
       "                domain = NA)\n",
       "    \\}\n",
       "    invisible(names)\n",
       "\\}\n",
       "\\end{minted}"
      ],
      "text/markdown": [
       "```r\n",
       "function (..., list = character(), package = NULL, lib.loc = NULL, \n",
       "    verbose = getOption(\"verbose\"), envir = .GlobalEnv) \n",
       "{\n",
       "    fileExt <- function(x) {\n",
       "        db <- grepl(\"\\\\.[^.]+\\\\.(gz|bz2|xz)$\", x)\n",
       "        ans <- sub(\".*\\\\.\", \"\", x)\n",
       "        ans[db] <- sub(\".*\\\\.([^.]+\\\\.)(gz|bz2|xz)$\", \"\\\\1\\\\2\", \n",
       "            x[db])\n",
       "        ans\n",
       "    }\n",
       "    names <- c(as.character(substitute(list(...))[-1L]), list)\n",
       "    if (!is.null(package)) {\n",
       "        if (!is.character(package)) \n",
       "            stop(\"'package' must be a character string or NULL\")\n",
       "        if (any(package %in% \"base\")) \n",
       "            warning(\"datasets have been moved from package 'base' to package 'datasets'\")\n",
       "        if (any(package %in% \"stats\")) \n",
       "            warning(\"datasets have been moved from package 'stats' to package 'datasets'\")\n",
       "        package[package %in% c(\"base\", \"stats\")] <- \"datasets\"\n",
       "    }\n",
       "    paths <- find.package(package, lib.loc, verbose = verbose)\n",
       "    if (is.null(lib.loc)) \n",
       "        paths <- c(path.package(package, TRUE), if (!length(package)) getwd(), \n",
       "            paths)\n",
       "    paths <- unique(normalizePath(paths[file.exists(paths)]))\n",
       "    paths <- paths[dir.exists(file.path(paths, \"data\"))]\n",
       "    dataExts <- tools:::.make_file_exts(\"data\")\n",
       "    if (length(names) == 0L) {\n",
       "        db <- matrix(character(), nrow = 0L, ncol = 4L)\n",
       "        for (path in paths) {\n",
       "            entries <- NULL\n",
       "            packageName <- if (file_test(\"-f\", file.path(path, \n",
       "                \"DESCRIPTION\"))) \n",
       "                basename(path)\n",
       "            else \".\"\n",
       "            if (file_test(\"-f\", INDEX <- file.path(path, \"Meta\", \n",
       "                \"data.rds\"))) {\n",
       "                entries <- readRDS(INDEX)\n",
       "            }\n",
       "            else {\n",
       "                dataDir <- file.path(path, \"data\")\n",
       "                entries <- tools::list_files_with_type(dataDir, \n",
       "                  \"data\")\n",
       "                if (length(entries)) {\n",
       "                  entries <- unique(tools::file_path_sans_ext(basename(entries)))\n",
       "                  entries <- cbind(entries, \"\")\n",
       "                }\n",
       "            }\n",
       "            if (NROW(entries)) {\n",
       "                if (is.matrix(entries) && ncol(entries) == 2L) \n",
       "                  db <- rbind(db, cbind(packageName, dirname(path), \n",
       "                    entries))\n",
       "                else warning(gettextf(\"data index for package %s is invalid and will be ignored\", \n",
       "                  sQuote(packageName)), domain = NA, call. = FALSE)\n",
       "            }\n",
       "        }\n",
       "        colnames(db) <- c(\"Package\", \"LibPath\", \"Item\", \"Title\")\n",
       "        footer <- if (missing(package)) \n",
       "            paste0(\"Use \", sQuote(paste(\"data(package =\", \".packages(all.available = TRUE))\")), \n",
       "                \"\\n\", \"to list the data sets in all *available* packages.\")\n",
       "        else NULL\n",
       "        y <- list(title = \"Data sets\", header = NULL, results = db, \n",
       "            footer = footer)\n",
       "        class(y) <- \"packageIQR\"\n",
       "        return(y)\n",
       "    }\n",
       "    paths <- file.path(paths, \"data\")\n",
       "    for (name in names) {\n",
       "        found <- FALSE\n",
       "        for (p in paths) {\n",
       "            if (file_test(\"-f\", file.path(p, \"Rdata.rds\"))) {\n",
       "                rds <- readRDS(file.path(p, \"Rdata.rds\"))\n",
       "                if (name %in% names(rds)) {\n",
       "                  found <- TRUE\n",
       "                  if (verbose) \n",
       "                    message(sprintf(\"name=%s:\\t found in Rdata.rds\", \n",
       "                      name), domain = NA)\n",
       "                  thispkg <- sub(\".*/([^/]*)/data$\", \"\\\\1\", p)\n",
       "                  thispkg <- sub(\"_.*$\", \"\", thispkg)\n",
       "                  thispkg <- paste0(\"package:\", thispkg)\n",
       "                  objs <- rds[[name]]\n",
       "                  lazyLoad(file.path(p, \"Rdata\"), envir = envir, \n",
       "                    filter = function(x) x %in% objs)\n",
       "                  break\n",
       "                }\n",
       "                else if (verbose) \n",
       "                  message(sprintf(\"name=%s:\\t NOT found in names() of Rdata.rds, i.e.,\\n\\t%s\\n\", \n",
       "                    name, paste(names(rds), collapse = \",\")), \n",
       "                    domain = NA)\n",
       "            }\n",
       "            if (file_test(\"-f\", file.path(p, \"Rdata.zip\"))) {\n",
       "                warning(\"zipped data found for package \", sQuote(basename(dirname(p))), \n",
       "                  \".\\nThat is defunct, so please re-install the package.\", \n",
       "                  domain = NA)\n",
       "                if (file_test(\"-f\", fp <- file.path(p, \"filelist\"))) \n",
       "                  files <- file.path(p, scan(fp, what = \"\", quiet = TRUE))\n",
       "                else {\n",
       "                  warning(gettextf(\"file 'filelist' is missing for directory %s\", \n",
       "                    sQuote(p)), domain = NA)\n",
       "                  next\n",
       "                }\n",
       "            }\n",
       "            else {\n",
       "                files <- list.files(p, full.names = TRUE)\n",
       "            }\n",
       "            files <- files[grep(name, files, fixed = TRUE)]\n",
       "            if (length(files) > 1L) {\n",
       "                o <- match(fileExt(files), dataExts, nomatch = 100L)\n",
       "                paths0 <- dirname(files)\n",
       "                paths0 <- factor(paths0, levels = unique(paths0))\n",
       "                files <- files[order(paths0, o)]\n",
       "            }\n",
       "            if (length(files)) {\n",
       "                for (file in files) {\n",
       "                  if (verbose) \n",
       "                    message(\"name=\", name, \":\\t file= ...\", .Platform$file.sep, \n",
       "                      basename(file), \"::\\t\", appendLF = FALSE, \n",
       "                      domain = NA)\n",
       "                  ext <- fileExt(file)\n",
       "                  if (basename(file) != paste0(name, \".\", ext)) \n",
       "                    found <- FALSE\n",
       "                  else {\n",
       "                    found <- TRUE\n",
       "                    zfile <- file\n",
       "                    zipname <- file.path(dirname(file), \"Rdata.zip\")\n",
       "                    if (file.exists(zipname)) {\n",
       "                      Rdatadir <- tempfile(\"Rdata\")\n",
       "                      dir.create(Rdatadir, showWarnings = FALSE)\n",
       "                      topic <- basename(file)\n",
       "                      rc <- .External(C_unzip, zipname, topic, \n",
       "                        Rdatadir, FALSE, TRUE, FALSE, FALSE)\n",
       "                      if (rc == 0L) \n",
       "                        zfile <- file.path(Rdatadir, topic)\n",
       "                    }\n",
       "                    if (zfile != file) \n",
       "                      on.exit(unlink(zfile))\n",
       "                    switch(ext, R = , r = {\n",
       "                      library(\"utils\")\n",
       "                      sys.source(zfile, chdir = TRUE, envir = envir)\n",
       "                    }, RData = , rdata = , rda = load(zfile, \n",
       "                      envir = envir), TXT = , txt = , tab = , \n",
       "                      tab.gz = , tab.bz2 = , tab.xz = , txt.gz = , \n",
       "                      txt.bz2 = , txt.xz = assign(name, read.table(zfile, \n",
       "                        header = TRUE, as.is = FALSE), envir = envir), \n",
       "                      CSV = , csv = , csv.gz = , csv.bz2 = , \n",
       "                      csv.xz = assign(name, read.table(zfile, \n",
       "                        header = TRUE, sep = \";\", as.is = FALSE), \n",
       "                        envir = envir), found <- FALSE)\n",
       "                  }\n",
       "                  if (found) \n",
       "                    break\n",
       "                }\n",
       "                if (verbose) \n",
       "                  message(if (!found) \n",
       "                    \"*NOT* \", \"found\", domain = NA)\n",
       "            }\n",
       "            if (found) \n",
       "                break\n",
       "        }\n",
       "        if (!found) \n",
       "            warning(gettextf(\"data set %s not found\", sQuote(name)), \n",
       "                domain = NA)\n",
       "    }\n",
       "    invisible(names)\n",
       "}\n",
       "```"
      ],
      "text/plain": [
       "function (..., list = character(), package = NULL, lib.loc = NULL, \n",
       "    verbose = getOption(\"verbose\"), envir = .GlobalEnv) \n",
       "{\n",
       "    fileExt <- function(x) {\n",
       "        db <- grepl(\"\\\\.[^.]+\\\\.(gz|bz2|xz)$\", x)\n",
       "        ans <- sub(\".*\\\\.\", \"\", x)\n",
       "        ans[db] <- sub(\".*\\\\.([^.]+\\\\.)(gz|bz2|xz)$\", \"\\\\1\\\\2\", \n",
       "            x[db])\n",
       "        ans\n",
       "    }\n",
       "    names <- c(as.character(substitute(list(...))[-1L]), list)\n",
       "    if (!is.null(package)) {\n",
       "        if (!is.character(package)) \n",
       "            stop(\"'package' must be a character string or NULL\")\n",
       "        if (any(package %in% \"base\")) \n",
       "            warning(\"datasets have been moved from package 'base' to package 'datasets'\")\n",
       "        if (any(package %in% \"stats\")) \n",
       "            warning(\"datasets have been moved from package 'stats' to package 'datasets'\")\n",
       "        package[package %in% c(\"base\", \"stats\")] <- \"datasets\"\n",
       "    }\n",
       "    paths <- find.package(package, lib.loc, verbose = verbose)\n",
       "    if (is.null(lib.loc)) \n",
       "        paths <- c(path.package(package, TRUE), if (!length(package)) getwd(), \n",
       "            paths)\n",
       "    paths <- unique(normalizePath(paths[file.exists(paths)]))\n",
       "    paths <- paths[dir.exists(file.path(paths, \"data\"))]\n",
       "    dataExts <- tools:::.make_file_exts(\"data\")\n",
       "    if (length(names) == 0L) {\n",
       "        db <- matrix(character(), nrow = 0L, ncol = 4L)\n",
       "        for (path in paths) {\n",
       "            entries <- NULL\n",
       "            packageName <- if (file_test(\"-f\", file.path(path, \n",
       "                \"DESCRIPTION\"))) \n",
       "                basename(path)\n",
       "            else \".\"\n",
       "            if (file_test(\"-f\", INDEX <- file.path(path, \"Meta\", \n",
       "                \"data.rds\"))) {\n",
       "                entries <- readRDS(INDEX)\n",
       "            }\n",
       "            else {\n",
       "                dataDir <- file.path(path, \"data\")\n",
       "                entries <- tools::list_files_with_type(dataDir, \n",
       "                  \"data\")\n",
       "                if (length(entries)) {\n",
       "                  entries <- unique(tools::file_path_sans_ext(basename(entries)))\n",
       "                  entries <- cbind(entries, \"\")\n",
       "                }\n",
       "            }\n",
       "            if (NROW(entries)) {\n",
       "                if (is.matrix(entries) && ncol(entries) == 2L) \n",
       "                  db <- rbind(db, cbind(packageName, dirname(path), \n",
       "                    entries))\n",
       "                else warning(gettextf(\"data index for package %s is invalid and will be ignored\", \n",
       "                  sQuote(packageName)), domain = NA, call. = FALSE)\n",
       "            }\n",
       "        }\n",
       "        colnames(db) <- c(\"Package\", \"LibPath\", \"Item\", \"Title\")\n",
       "        footer <- if (missing(package)) \n",
       "            paste0(\"Use \", sQuote(paste(\"data(package =\", \".packages(all.available = TRUE))\")), \n",
       "                \"\\n\", \"to list the data sets in all *available* packages.\")\n",
       "        else NULL\n",
       "        y <- list(title = \"Data sets\", header = NULL, results = db, \n",
       "            footer = footer)\n",
       "        class(y) <- \"packageIQR\"\n",
       "        return(y)\n",
       "    }\n",
       "    paths <- file.path(paths, \"data\")\n",
       "    for (name in names) {\n",
       "        found <- FALSE\n",
       "        for (p in paths) {\n",
       "            if (file_test(\"-f\", file.path(p, \"Rdata.rds\"))) {\n",
       "                rds <- readRDS(file.path(p, \"Rdata.rds\"))\n",
       "                if (name %in% names(rds)) {\n",
       "                  found <- TRUE\n",
       "                  if (verbose) \n",
       "                    message(sprintf(\"name=%s:\\t found in Rdata.rds\", \n",
       "                      name), domain = NA)\n",
       "                  thispkg <- sub(\".*/([^/]*)/data$\", \"\\\\1\", p)\n",
       "                  thispkg <- sub(\"_.*$\", \"\", thispkg)\n",
       "                  thispkg <- paste0(\"package:\", thispkg)\n",
       "                  objs <- rds[[name]]\n",
       "                  lazyLoad(file.path(p, \"Rdata\"), envir = envir, \n",
       "                    filter = function(x) x %in% objs)\n",
       "                  break\n",
       "                }\n",
       "                else if (verbose) \n",
       "                  message(sprintf(\"name=%s:\\t NOT found in names() of Rdata.rds, i.e.,\\n\\t%s\\n\", \n",
       "                    name, paste(names(rds), collapse = \",\")), \n",
       "                    domain = NA)\n",
       "            }\n",
       "            if (file_test(\"-f\", file.path(p, \"Rdata.zip\"))) {\n",
       "                warning(\"zipped data found for package \", sQuote(basename(dirname(p))), \n",
       "                  \".\\nThat is defunct, so please re-install the package.\", \n",
       "                  domain = NA)\n",
       "                if (file_test(\"-f\", fp <- file.path(p, \"filelist\"))) \n",
       "                  files <- file.path(p, scan(fp, what = \"\", quiet = TRUE))\n",
       "                else {\n",
       "                  warning(gettextf(\"file 'filelist' is missing for directory %s\", \n",
       "                    sQuote(p)), domain = NA)\n",
       "                  next\n",
       "                }\n",
       "            }\n",
       "            else {\n",
       "                files <- list.files(p, full.names = TRUE)\n",
       "            }\n",
       "            files <- files[grep(name, files, fixed = TRUE)]\n",
       "            if (length(files) > 1L) {\n",
       "                o <- match(fileExt(files), dataExts, nomatch = 100L)\n",
       "                paths0 <- dirname(files)\n",
       "                paths0 <- factor(paths0, levels = unique(paths0))\n",
       "                files <- files[order(paths0, o)]\n",
       "            }\n",
       "            if (length(files)) {\n",
       "                for (file in files) {\n",
       "                  if (verbose) \n",
       "                    message(\"name=\", name, \":\\t file= ...\", .Platform$file.sep, \n",
       "                      basename(file), \"::\\t\", appendLF = FALSE, \n",
       "                      domain = NA)\n",
       "                  ext <- fileExt(file)\n",
       "                  if (basename(file) != paste0(name, \".\", ext)) \n",
       "                    found <- FALSE\n",
       "                  else {\n",
       "                    found <- TRUE\n",
       "                    zfile <- file\n",
       "                    zipname <- file.path(dirname(file), \"Rdata.zip\")\n",
       "                    if (file.exists(zipname)) {\n",
       "                      Rdatadir <- tempfile(\"Rdata\")\n",
       "                      dir.create(Rdatadir, showWarnings = FALSE)\n",
       "                      topic <- basename(file)\n",
       "                      rc <- .External(C_unzip, zipname, topic, \n",
       "                        Rdatadir, FALSE, TRUE, FALSE, FALSE)\n",
       "                      if (rc == 0L) \n",
       "                        zfile <- file.path(Rdatadir, topic)\n",
       "                    }\n",
       "                    if (zfile != file) \n",
       "                      on.exit(unlink(zfile))\n",
       "                    switch(ext, R = , r = {\n",
       "                      library(\"utils\")\n",
       "                      sys.source(zfile, chdir = TRUE, envir = envir)\n",
       "                    }, RData = , rdata = , rda = load(zfile, \n",
       "                      envir = envir), TXT = , txt = , tab = , \n",
       "                      tab.gz = , tab.bz2 = , tab.xz = , txt.gz = , \n",
       "                      txt.bz2 = , txt.xz = assign(name, read.table(zfile, \n",
       "                        header = TRUE, as.is = FALSE), envir = envir), \n",
       "                      CSV = , csv = , csv.gz = , csv.bz2 = , \n",
       "                      csv.xz = assign(name, read.table(zfile, \n",
       "                        header = TRUE, sep = \";\", as.is = FALSE), \n",
       "                        envir = envir), found <- FALSE)\n",
       "                  }\n",
       "                  if (found) \n",
       "                    break\n",
       "                }\n",
       "                if (verbose) \n",
       "                  message(if (!found) \n",
       "                    \"*NOT* \", \"found\", domain = NA)\n",
       "            }\n",
       "            if (found) \n",
       "                break\n",
       "        }\n",
       "        if (!found) \n",
       "            warning(gettextf(\"data set %s not found\", sQuote(name)), \n",
       "                domain = NA)\n",
       "    }\n",
       "    invisible(names)\n",
       "}\n",
       "<bytecode: 0x2961cc8>\n",
       "<environment: namespace:utils>"
      ]
     },
     "metadata": {},
     "output_type": "display_data"
    }
   ],
   "source": [
    "data"
   ]
  },
  {
   "cell_type": "code",
   "execution_count": 52,
   "metadata": {
    "collapsed": false,
    "deletable": true,
    "editable": true
   },
   "outputs": [],
   "source": [
    "w=data.frame(names=c('natasha','leo','kuki'),high.fiving.ability=c(1,2,3))"
   ]
  },
  {
   "cell_type": "code",
   "execution_count": 53,
   "metadata": {
    "collapsed": false,
    "deletable": true,
    "editable": true
   },
   "outputs": [
    {
     "data": {
      "text/html": [
       "<table>\n",
       "<thead><tr><th scope=col>high.fiving.ability</th></tr></thead>\n",
       "<tbody>\n",
       "\t<tr><td>1</td></tr>\n",
       "\t<tr><td>2</td></tr>\n",
       "\t<tr><td>3</td></tr>\n",
       "</tbody>\n",
       "</table>\n"
      ],
      "text/latex": [
       "\\begin{tabular}{r|l}\n",
       " high.fiving.ability\\\\\n",
       "\\hline\n",
       "\t 1\\\\\n",
       "\t 2\\\\\n",
       "\t 3\\\\\n",
       "\\end{tabular}\n"
      ],
      "text/markdown": [
       "\n",
       "high.fiving.ability | \n",
       "|---|---|---|\n",
       "| 1 | \n",
       "| 2 | \n",
       "| 3 | \n",
       "\n",
       "\n"
      ],
      "text/plain": [
       "  high.fiving.ability\n",
       "1 1                  \n",
       "2 2                  \n",
       "3 3                  "
      ]
     },
     "metadata": {},
     "output_type": "display_data"
    }
   ],
   "source": [
    "w[2]"
   ]
  },
  {
   "cell_type": "code",
   "execution_count": 54,
   "metadata": {
    "collapsed": false,
    "deletable": true,
    "editable": true
   },
   "outputs": [
    {
     "data": {
      "text/html": [
       "<ol class=list-inline>\n",
       "\t<li>1</li>\n",
       "\t<li>2</li>\n",
       "\t<li>3</li>\n",
       "</ol>\n"
      ],
      "text/latex": [
       "\\begin{enumerate*}\n",
       "\\item 1\n",
       "\\item 2\n",
       "\\item 3\n",
       "\\end{enumerate*}\n"
      ],
      "text/markdown": [
       "1. 1\n",
       "2. 2\n",
       "3. 3\n",
       "\n",
       "\n"
      ],
      "text/plain": [
       "[1] 1 2 3"
      ]
     },
     "metadata": {},
     "output_type": "display_data"
    }
   ],
   "source": [
    "w[,2]"
   ]
  },
  {
   "cell_type": "code",
   "execution_count": 55,
   "metadata": {
    "collapsed": false,
    "deletable": true,
    "editable": true
   },
   "outputs": [
    {
     "data": {
      "text/html": [
       "<table>\n",
       "<thead><tr><th scope=col>names</th><th scope=col>high.fiving.ability</th></tr></thead>\n",
       "<tbody>\n",
       "\t<tr><td>natasha</td><td>1      </td></tr>\n",
       "\t<tr><td>leo    </td><td>2      </td></tr>\n",
       "\t<tr><td>kuki   </td><td>3      </td></tr>\n",
       "</tbody>\n",
       "</table>\n"
      ],
      "text/latex": [
       "\\begin{tabular}{r|ll}\n",
       " names & high.fiving.ability\\\\\n",
       "\\hline\n",
       "\t natasha & 1      \\\\\n",
       "\t leo     & 2      \\\\\n",
       "\t kuki    & 3      \\\\\n",
       "\\end{tabular}\n"
      ],
      "text/markdown": [
       "\n",
       "names | high.fiving.ability | \n",
       "|---|---|---|\n",
       "| natasha | 1       | \n",
       "| leo     | 2       | \n",
       "| kuki    | 3       | \n",
       "\n",
       "\n"
      ],
      "text/plain": [
       "  names   high.fiving.ability\n",
       "1 natasha 1                  \n",
       "2 leo     2                  \n",
       "3 kuki    3                  "
      ]
     },
     "metadata": {},
     "output_type": "display_data"
    }
   ],
   "source": [
    "w"
   ]
  },
  {
   "cell_type": "code",
   "execution_count": 56,
   "metadata": {
    "collapsed": false,
    "deletable": true,
    "editable": true
   },
   "outputs": [
    {
     "data": {
      "text/html": [
       "<table>\n",
       "<thead><tr><th scope=col>names</th><th scope=col>high.fiving.ability</th></tr></thead>\n",
       "<tbody>\n",
       "\t<tr><td>natasha</td><td>1      </td></tr>\n",
       "</tbody>\n",
       "</table>\n"
      ],
      "text/latex": [
       "\\begin{tabular}{r|ll}\n",
       " names & high.fiving.ability\\\\\n",
       "\\hline\n",
       "\t natasha & 1      \\\\\n",
       "\\end{tabular}\n"
      ],
      "text/markdown": [
       "\n",
       "names | high.fiving.ability | \n",
       "|---|\n",
       "| natasha | 1       | \n",
       "\n",
       "\n"
      ],
      "text/plain": [
       "  names   high.fiving.ability\n",
       "1 natasha 1                  "
      ]
     },
     "metadata": {},
     "output_type": "display_data"
    }
   ],
   "source": [
    "w[1,]"
   ]
  },
  {
   "cell_type": "code",
   "execution_count": 57,
   "metadata": {
    "collapsed": true,
    "deletable": true,
    "editable": true
   },
   "outputs": [],
   "source": [
    "library(foreign)"
   ]
  },
  {
   "cell_type": "code",
   "execution_count": 58,
   "metadata": {
    "collapsed": false,
    "deletable": true,
    "editable": true
   },
   "outputs": [
    {
     "name": "stderr",
     "output_type": "stream",
     "text": [
      "Installing package into ‘/usr/local/lib/R/site-library’\n",
      "(as ‘lib’ is unspecified)\n",
      "Warning message in install.packages(\"xlsx\"):\n",
      "“'lib = \"/usr/local/lib/R/site-library\"' is not writable”"
     ]
    },
    {
     "ename": "ERROR",
     "evalue": "Error in install.packages(\"xlsx\"): unable to install packages\n",
     "output_type": "error",
     "traceback": [
      "Error in install.packages(\"xlsx\"): unable to install packages\nTraceback:\n",
      "1. install.packages(\"xlsx\")",
      "2. stop(\"unable to install packages\")"
     ]
    }
   ],
   "source": [
    "install.packages('xlsx')"
   ]
  },
  {
   "cell_type": "code",
   "execution_count": 59,
   "metadata": {
    "collapsed": false,
    "deletable": true,
    "editable": true
   },
   "outputs": [
    {
     "data": {
      "text/html": [
       "<ol class=list-inline>\n",
       "\t<li>0</li>\n",
       "\t<li>2</li>\n",
       "\t<li>4</li>\n",
       "\t<li>6</li>\n",
       "\t<li>8</li>\n",
       "\t<li>10</li>\n",
       "\t<li>12</li>\n",
       "</ol>\n"
      ],
      "text/latex": [
       "\\begin{enumerate*}\n",
       "\\item 0\n",
       "\\item 2\n",
       "\\item 4\n",
       "\\item 6\n",
       "\\item 8\n",
       "\\item 10\n",
       "\\item 12\n",
       "\\end{enumerate*}\n"
      ],
      "text/markdown": [
       "1. 0\n",
       "2. 2\n",
       "3. 4\n",
       "4. 6\n",
       "5. 8\n",
       "6. 10\n",
       "7. 12\n",
       "\n",
       "\n"
      ],
      "text/plain": [
       "[1]  0  2  4  6  8 10 12"
      ]
     },
     "metadata": {},
     "output_type": "display_data"
    }
   ],
   "source": [
    "seq(from=0, to=12, by=2)"
   ]
  },
  {
   "cell_type": "code",
   "execution_count": 60,
   "metadata": {
    "collapsed": false,
    "deletable": true,
    "editable": true
   },
   "outputs": [
    {
     "ename": "ERROR",
     "evalue": "Error in parse(text = x, srcfile = src): <text>:1:1: unexpected '['\n1: [\n    ^\n",
     "output_type": "error",
     "traceback": [
      "Error in parse(text = x, srcfile = src): <text>:1:1: unexpected '['\n1: [\n    ^\nTraceback:\n"
     ]
    }
   ],
   "source": [
    "[2:30]"
   ]
  },
  {
   "cell_type": "code",
   "execution_count": 61,
   "metadata": {
    "collapsed": false,
    "deletable": true,
    "editable": true
   },
   "outputs": [
    {
     "name": "stderr",
     "output_type": "stream",
     "text": [
      "Warning message in 0:10:2:\n",
      "“numerical expression has 11 elements: only the first used”"
     ]
    },
    {
     "data": {
      "text/html": [
       "<ol class=list-inline>\n",
       "\t<li>0</li>\n",
       "\t<li>1</li>\n",
       "\t<li>2</li>\n",
       "</ol>\n"
      ],
      "text/latex": [
       "\\begin{enumerate*}\n",
       "\\item 0\n",
       "\\item 1\n",
       "\\item 2\n",
       "\\end{enumerate*}\n"
      ],
      "text/markdown": [
       "1. 0\n",
       "2. 1\n",
       "3. 2\n",
       "\n",
       "\n"
      ],
      "text/plain": [
       "[1] 0 1 2"
      ]
     },
     "metadata": {},
     "output_type": "display_data"
    }
   ],
   "source": [
    "0:10:2"
   ]
  },
  {
   "cell_type": "code",
   "execution_count": 62,
   "metadata": {
    "collapsed": false,
    "deletable": true,
    "editable": true
   },
   "outputs": [
    {
     "data": {
      "text/html": [
       "<ol class=list-inline>\n",
       "\t<li>0</li>\n",
       "\t<li>4</li>\n",
       "\t<li>8</li>\n",
       "\t<li>12</li>\n",
       "\t<li>16</li>\n",
       "\t<li>20</li>\n",
       "\t<li>24</li>\n",
       "\t<li>28</li>\n",
       "\t<li>32</li>\n",
       "\t<li>36</li>\n",
       "\t<li>40</li>\n",
       "\t<li>44</li>\n",
       "\t<li>48</li>\n",
       "\t<li>52</li>\n",
       "\t<li>56</li>\n",
       "\t<li>60</li>\n",
       "\t<li>64</li>\n",
       "\t<li>68</li>\n",
       "\t<li>72</li>\n",
       "\t<li>76</li>\n",
       "\t<li>80</li>\n",
       "\t<li>84</li>\n",
       "\t<li>88</li>\n",
       "\t<li>92</li>\n",
       "\t<li>96</li>\n",
       "\t<li>100</li>\n",
       "</ol>\n"
      ],
      "text/latex": [
       "\\begin{enumerate*}\n",
       "\\item 0\n",
       "\\item 4\n",
       "\\item 8\n",
       "\\item 12\n",
       "\\item 16\n",
       "\\item 20\n",
       "\\item 24\n",
       "\\item 28\n",
       "\\item 32\n",
       "\\item 36\n",
       "\\item 40\n",
       "\\item 44\n",
       "\\item 48\n",
       "\\item 52\n",
       "\\item 56\n",
       "\\item 60\n",
       "\\item 64\n",
       "\\item 68\n",
       "\\item 72\n",
       "\\item 76\n",
       "\\item 80\n",
       "\\item 84\n",
       "\\item 88\n",
       "\\item 92\n",
       "\\item 96\n",
       "\\item 100\n",
       "\\end{enumerate*}\n"
      ],
      "text/markdown": [
       "1. 0\n",
       "2. 4\n",
       "3. 8\n",
       "4. 12\n",
       "5. 16\n",
       "6. 20\n",
       "7. 24\n",
       "8. 28\n",
       "9. 32\n",
       "10. 36\n",
       "11. 40\n",
       "12. 44\n",
       "13. 48\n",
       "14. 52\n",
       "15. 56\n",
       "16. 60\n",
       "17. 64\n",
       "18. 68\n",
       "19. 72\n",
       "20. 76\n",
       "21. 80\n",
       "22. 84\n",
       "23. 88\n",
       "24. 92\n",
       "25. 96\n",
       "26. 100\n",
       "\n",
       "\n"
      ],
      "text/plain": [
       " [1]   0   4   8  12  16  20  24  28  32  36  40  44  48  52  56  60  64  68  72\n",
       "[20]  76  80  84  88  92  96 100"
      ]
     },
     "metadata": {},
     "output_type": "display_data"
    }
   ],
   "source": [
    "seq(0, 100, 4)"
   ]
  },
  {
   "cell_type": "code",
   "execution_count": null,
   "metadata": {
    "collapsed": true,
    "deletable": true,
    "editable": true
   },
   "outputs": [],
   "source": []
  }
 ],
 "metadata": {
  "kernelspec": {
   "display_name": "R",
   "language": "R",
   "name": "ir"
  },
  "language_info": {
   "codemirror_mode": "r",
   "file_extension": ".r",
   "mimetype": "text/x-r-source",
   "name": "R",
   "pygments_lexer": "r",
   "version": "3.3.3"
  }
 },
 "nbformat": 4,
 "nbformat_minor": 2
}
