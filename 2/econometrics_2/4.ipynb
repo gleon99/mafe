{
 "cells": [
  {
   "cell_type": "code",
   "execution_count": 1,
   "metadata": {},
   "outputs": [],
   "source": [
    "BARIUM = read.table(file=\"BARIUM.txt\", header=TRUE, sep=\"\\t\", as.is=TRUE, na.strings=c(\"NA\", \".\", \"\"))"
   ]
  },
  {
   "cell_type": "code",
   "execution_count": 15,
   "metadata": {},
   "outputs": [],
   "source": [
    "BARIUM$BEFILE6 = ifelse(BARIUM$YEAR == 1983 & BARIUM$MON %in% c(\"APR\", \"MAY\", \"JUN\", \"JUL\", \"AUG\", \"SEP\"), 1, 0)"
   ]
  },
  {
   "cell_type": "code",
   "execution_count": 17,
   "metadata": {},
   "outputs": [],
   "source": [
    "BARIUM$AFFILE6 = ifelse((BARIUM$YEAR == 1983 & BARIUM$MON %in% c(\"NOV\", \"DEC\")) | (BARIUM$YEAR == 1984 & BARIUM$MON %in% c(\"JAN\", \"FEB\", \"MAR\", \"APR\")), 1, 0)"
   ]
  },
  {
   "cell_type": "code",
   "execution_count": 7,
   "metadata": {},
   "outputs": [],
   "source": [
    "BARIUM$AFDEC6 = ifelse((BARIUM$YEAR == 1984 & BARIUM$MON %in% c(\"NOV\", \"DEC\")) | (BARIUM$YEAR == 1985 & BARIUM$MON %in% c(\"JAN\", \"FEB\", \"MAR\", \"APR\")), 1, 0)"
   ]
  },
  {
   "cell_type": "code",
   "execution_count": 11,
   "metadata": {},
   "outputs": [
    {
     "data": {
      "text/html": [
       "<table>\n",
       "<caption>A data.frame: 6 × 10</caption>\n",
       "<thead>\n",
       "\t<tr><th></th><th scope=col>YEAR</th><th scope=col>MON</th><th scope=col>CHNIMP</th><th scope=col>BCHLIMP</th><th scope=col>CHEMPI</th><th scope=col>GAS</th><th scope=col>RTWEX</th><th scope=col>BEFIL6</th><th scope=col>AFFIL6</th><th scope=col>AFDEC6</th></tr>\n",
       "\t<tr><th></th><th scope=col>&lt;int&gt;</th><th scope=col>&lt;chr&gt;</th><th scope=col>&lt;dbl&gt;</th><th scope=col>&lt;dbl&gt;</th><th scope=col>&lt;dbl&gt;</th><th scope=col>&lt;dbl&gt;</th><th scope=col>&lt;dbl&gt;</th><th scope=col>&lt;dbl&gt;</th><th scope=col>&lt;dbl&gt;</th><th scope=col>&lt;dbl&gt;</th></tr>\n",
       "</thead>\n",
       "<tbody>\n",
       "\t<tr><th scope=row>63</th><td>1983</td><td>APR</td><td> 318.0120</td><td>20764.83</td><td>113.6</td><td>7.84e+09</td><td>114.12</td><td>1</td><td>0</td><td>0</td></tr>\n",
       "\t<tr><th scope=row>64</th><td>1983</td><td>MAY</td><td>1048.0360</td><td>28414.79</td><td>115.0</td><td>8.35e+09</td><td>114.46</td><td>1</td><td>0</td><td>0</td></tr>\n",
       "\t<tr><th scope=row>65</th><td>1983</td><td>JUN</td><td> 945.7295</td><td>18819.39</td><td>117.0</td><td>8.42e+09</td><td>117.35</td><td>1</td><td>0</td><td>0</td></tr>\n",
       "\t<tr><th scope=row>66</th><td>1983</td><td>JUL</td><td> 295.3720</td><td>11737.22</td><td>119.0</td><td>8.78e+09</td><td>118.63</td><td>1</td><td>0</td><td>0</td></tr>\n",
       "\t<tr><th scope=row>67</th><td>1983</td><td>AUG</td><td> 319.4580</td><td>12520.28</td><td>120.0</td><td>8.56e+09</td><td>121.49</td><td>1</td><td>0</td><td>0</td></tr>\n",
       "\t<tr><th scope=row>68</th><td>1983</td><td>SEP</td><td> 855.1370</td><td>16988.23</td><td>122.1</td><td>8.34e+09</td><td>121.35</td><td>1</td><td>0</td><td>0</td></tr>\n",
       "</tbody>\n",
       "</table>\n"
      ],
      "text/latex": [
       "A data.frame: 6 × 10\n",
       "\\begin{tabular}{r|llllllllll}\n",
       "  & YEAR & MON & CHNIMP & BCHLIMP & CHEMPI & GAS & RTWEX & BEFIL6 & AFFIL6 & AFDEC6\\\\\n",
       "  & <int> & <chr> & <dbl> & <dbl> & <dbl> & <dbl> & <dbl> & <dbl> & <dbl> & <dbl>\\\\\n",
       "\\hline\n",
       "\t63 & 1983 & APR &  318.0120 & 20764.83 & 113.6 & 7.84e+09 & 114.12 & 1 & 0 & 0\\\\\n",
       "\t64 & 1983 & MAY & 1048.0360 & 28414.79 & 115.0 & 8.35e+09 & 114.46 & 1 & 0 & 0\\\\\n",
       "\t65 & 1983 & JUN &  945.7295 & 18819.39 & 117.0 & 8.42e+09 & 117.35 & 1 & 0 & 0\\\\\n",
       "\t66 & 1983 & JUL &  295.3720 & 11737.22 & 119.0 & 8.78e+09 & 118.63 & 1 & 0 & 0\\\\\n",
       "\t67 & 1983 & AUG &  319.4580 & 12520.28 & 120.0 & 8.56e+09 & 121.49 & 1 & 0 & 0\\\\\n",
       "\t68 & 1983 & SEP &  855.1370 & 16988.23 & 122.1 & 8.34e+09 & 121.35 & 1 & 0 & 0\\\\\n",
       "\\end{tabular}\n"
      ],
      "text/markdown": [
       "\n",
       "A data.frame: 6 × 10\n",
       "\n",
       "| <!--/--> | YEAR &lt;int&gt; | MON &lt;chr&gt; | CHNIMP &lt;dbl&gt; | BCHLIMP &lt;dbl&gt; | CHEMPI &lt;dbl&gt; | GAS &lt;dbl&gt; | RTWEX &lt;dbl&gt; | BEFIL6 &lt;dbl&gt; | AFFIL6 &lt;dbl&gt; | AFDEC6 &lt;dbl&gt; |\n",
       "|---|---|---|---|---|---|---|---|---|---|---|\n",
       "| 63 | 1983 | APR |  318.0120 | 20764.83 | 113.6 | 7.84e+09 | 114.12 | 1 | 0 | 0 |\n",
       "| 64 | 1983 | MAY | 1048.0360 | 28414.79 | 115.0 | 8.35e+09 | 114.46 | 1 | 0 | 0 |\n",
       "| 65 | 1983 | JUN |  945.7295 | 18819.39 | 117.0 | 8.42e+09 | 117.35 | 1 | 0 | 0 |\n",
       "| 66 | 1983 | JUL |  295.3720 | 11737.22 | 119.0 | 8.78e+09 | 118.63 | 1 | 0 | 0 |\n",
       "| 67 | 1983 | AUG |  319.4580 | 12520.28 | 120.0 | 8.56e+09 | 121.49 | 1 | 0 | 0 |\n",
       "| 68 | 1983 | SEP |  855.1370 | 16988.23 | 122.1 | 8.34e+09 | 121.35 | 1 | 0 | 0 |\n",
       "\n"
      ],
      "text/plain": [
       "   YEAR MON CHNIMP    BCHLIMP  CHEMPI GAS      RTWEX  BEFIL6 AFFIL6 AFDEC6\n",
       "63 1983 APR  318.0120 20764.83 113.6  7.84e+09 114.12 1      0      0     \n",
       "64 1983 MAY 1048.0360 28414.79 115.0  8.35e+09 114.46 1      0      0     \n",
       "65 1983 JUN  945.7295 18819.39 117.0  8.42e+09 117.35 1      0      0     \n",
       "66 1983 JUL  295.3720 11737.22 119.0  8.78e+09 118.63 1      0      0     \n",
       "67 1983 AUG  319.4580 12520.28 120.0  8.56e+09 121.49 1      0      0     \n",
       "68 1983 SEP  855.1370 16988.23 122.1  8.34e+09 121.35 1      0      0     "
      ]
     },
     "metadata": {},
     "output_type": "display_data"
    }
   ],
   "source": [
    "BARIUM[BARIUM$BEFIL6==1,]"
   ]
  },
  {
   "cell_type": "code",
   "execution_count": 18,
   "metadata": {},
   "outputs": [],
   "source": [
    "fit = lm(log(CHNIMP) ~ log(CHEMPI) + log(GAS) + log(RTWEX) + BEFILE6 + AFFILE6 + AFDEC6, data=BARIUM)"
   ]
  },
  {
   "cell_type": "code",
   "execution_count": 19,
   "metadata": {},
   "outputs": [
    {
     "data": {
      "text/plain": [
       "\n",
       "Call:\n",
       "lm(formula = log(CHNIMP) ~ log(CHEMPI) + log(GAS) + log(RTWEX) + \n",
       "    BEFILE6 + AFFILE6 + AFDEC6, data = BARIUM)\n",
       "\n",
       "Residuals:\n",
       "     Min       1Q   Median       3Q      Max \n",
       "-2.03335 -0.39059  0.03029  0.40246  1.51743 \n",
       "\n",
       "Coefficients:\n",
       "             Estimate Std. Error t value Pr(>|t|)    \n",
       "(Intercept) -17.83116   21.14745  -0.843   0.4008    \n",
       "log(CHEMPI)   3.11741    0.47892   6.509 1.69e-09 ***\n",
       "log(GAS)      0.19754    0.91095   0.217   0.8287    \n",
       "log(RTWEX)    0.98295    0.39996   2.458   0.0154 *  \n",
       "BEFILE6       0.05966    0.26095   0.229   0.8195    \n",
       "AFFILE6      -0.03226    0.26433  -0.122   0.9031    \n",
       "AFDEC6       -0.56545    0.28577  -1.979   0.0501 .  \n",
       "---\n",
       "Signif. codes:  0 '***' 0.001 '**' 0.01 '*' 0.05 '.' 0.1 ' ' 1\n",
       "\n",
       "Residual standard error: 0.5974 on 124 degrees of freedom\n",
       "Multiple R-squared:  0.3049,\tAdjusted R-squared:  0.2712 \n",
       "F-statistic: 9.064 on 6 and 124 DF,  p-value: 3.254e-08\n"
      ]
     },
     "metadata": {},
     "output_type": "display_data"
    }
   ],
   "source": [
    "summary(fit)"
   ]
  },
  {
   "cell_type": "code",
   "execution_count": 20,
   "metadata": {},
   "outputs": [],
   "source": [
    "HSEINV = read.table(file=\"HSEINV.txt\", header=FALSE, sep=\"\", as.is=TRUE, na.strings=c(\"NA\", \".\", \"\"))"
   ]
  },
  {
   "cell_type": "code",
   "execution_count": 21,
   "metadata": {},
   "outputs": [],
   "source": [
    "colnames(HSEINV) = c(\"YEAR\", \"INV\", \"POP\", \"PRICE\")"
   ]
  },
  {
   "cell_type": "code",
   "execution_count": 22,
   "metadata": {},
   "outputs": [],
   "source": [
    "HSEINV$INVPC = HSEINV$INV/HSEINV$POP"
   ]
  },
  {
   "cell_type": "code",
   "execution_count": 23,
   "metadata": {},
   "outputs": [],
   "source": [
    "HSEINV$t = 1:length(HSEINV$YEAR)"
   ]
  },
  {
   "cell_type": "code",
   "execution_count": 24,
   "metadata": {},
   "outputs": [],
   "source": [
    "fit1 = lm(log(INVPC) ~ log(PRICE), data=HSEINV)"
   ]
  },
  {
   "cell_type": "code",
   "execution_count": 26,
   "metadata": {},
   "outputs": [],
   "source": [
    "fit2 = lm(log(INVPC) ~ log(PRICE) + t, data=HSEINV)"
   ]
  },
  {
   "cell_type": "code",
   "execution_count": 27,
   "metadata": {},
   "outputs": [
    {
     "name": "stderr",
     "output_type": "stream",
     "text": [
      "Loading required package: stargazer\n",
      "\n",
      "\n",
      "Please cite as: \n",
      "\n",
      "\n",
      " Hlavac, Marek (2018). stargazer: Well-Formatted Regression and Summary Statistics Tables.\n",
      "\n",
      " R package version 5.2.2. https://CRAN.R-project.org/package=stargazer \n",
      "\n",
      "\n"
     ]
    }
   ],
   "source": [
    "require(stargazer)"
   ]
  },
  {
   "cell_type": "code",
   "execution_count": 28,
   "metadata": {},
   "outputs": [
    {
     "name": "stdout",
     "output_type": "stream",
     "text": [
      "\n",
      "=================================================================\n",
      "                                 Dependent variable:             \n",
      "                    ---------------------------------------------\n",
      "                                     log(INVPC)                  \n",
      "                             (1)                    (2)          \n",
      "-----------------------------------------------------------------\n",
      "log(PRICE)                 1.241***                -0.381        \n",
      "                           (0.382)                (0.679)        \n",
      "                                                                 \n",
      "t                                                 0.010***       \n",
      "                                                  (0.004)        \n",
      "                                                                 \n",
      "Constant                  -0.550***              -0.913***       \n",
      "                           (0.043)                (0.136)        \n",
      "                                                                 \n",
      "-----------------------------------------------------------------\n",
      "Observations                  42                     42          \n",
      "R2                          0.208                  0.341         \n",
      "Adjusted R2                 0.189                  0.307         \n",
      "Residual Std. Error    0.155 (df = 40)        0.144 (df = 39)    \n",
      "F Statistic         10.530*** (df = 1; 40) 10.080*** (df = 2; 39)\n",
      "=================================================================\n",
      "Note:                                 *p<0.1; **p<0.05; ***p<0.01\n"
     ]
    }
   ],
   "source": [
    "RegOut = stargazer(fit1, fit2, type=\"text\")"
   ]
  },
  {
   "cell_type": "code",
   "execution_count": 29,
   "metadata": {},
   "outputs": [],
   "source": [
    "fit1 = lm(log(INVPC) ~ 1,data=HSEINV)"
   ]
  },
  {
   "cell_type": "code",
   "execution_count": 30,
   "metadata": {},
   "outputs": [],
   "source": [
    "LogINVPC_RESID = fit1$residuals"
   ]
  },
  {
   "cell_type": "code",
   "execution_count": 31,
   "metadata": {},
   "outputs": [],
   "source": [
    "fit2 = lm(log(PRICE) ~ 1, data=HSEINV)"
   ]
  },
  {
   "cell_type": "code",
   "execution_count": 32,
   "metadata": {},
   "outputs": [],
   "source": [
    "LogPRICE_RESID = fit2$residuals"
   ]
  },
  {
   "cell_type": "code",
   "execution_count": 33,
   "metadata": {},
   "outputs": [],
   "source": [
    "fit3 = lm(LogINVPC_RESID ~ LogPRICE_RESID)"
   ]
  },
  {
   "cell_type": "code",
   "execution_count": 34,
   "metadata": {},
   "outputs": [
    {
     "name": "stdout",
     "output_type": "stream",
     "text": [
      "\n",
      "===============================================\n",
      "                        Dependent variable:    \n",
      "                    ---------------------------\n",
      "                          LogINVPC_RESID       \n",
      "-----------------------------------------------\n",
      "LogPRICE_RESID               1.241***          \n",
      "                              (0.382)          \n",
      "                                               \n",
      "Constant                       0.000           \n",
      "                              (0.024)          \n",
      "                                               \n",
      "-----------------------------------------------\n",
      "Observations                    42             \n",
      "R2                             0.208           \n",
      "Adjusted R2                    0.189           \n",
      "Residual Std. Error       0.155 (df = 40)      \n",
      "F Statistic           10.530*** (df = 1; 40)   \n",
      "===============================================\n",
      "Note:               *p<0.1; **p<0.05; ***p<0.01\n"
     ]
    }
   ],
   "source": [
    "RegOut = stargazer(fit3, type=\"text\")"
   ]
  },
  {
   "cell_type": "code",
   "execution_count": 35,
   "metadata": {},
   "outputs": [],
   "source": [
    "fit4 = lm(log(INVPC) ~ log(PRICE) + t, data=HSEINV)"
   ]
  },
  {
   "cell_type": "code",
   "execution_count": 36,
   "metadata": {},
   "outputs": [
    {
     "name": "stdout",
     "output_type": "stream",
     "text": [
      "\n",
      "===============================================\n",
      "                        Dependent variable:    \n",
      "                    ---------------------------\n",
      "                            log(INVPC)         \n",
      "-----------------------------------------------\n",
      "log(PRICE)                    -0.381           \n",
      "                              (0.679)          \n",
      "                                               \n",
      "t                            0.010***          \n",
      "                              (0.004)          \n",
      "                                               \n",
      "Constant                     -0.913***         \n",
      "                              (0.136)          \n",
      "                                               \n",
      "-----------------------------------------------\n",
      "Observations                    42             \n",
      "R2                             0.341           \n",
      "Adjusted R2                    0.307           \n",
      "Residual Std. Error       0.144 (df = 39)      \n",
      "F Statistic           10.080*** (df = 2; 39)   \n",
      "===============================================\n",
      "Note:               *p<0.1; **p<0.05; ***p<0.01\n"
     ]
    }
   ],
   "source": [
    "RegOut = stargazer(fit4, type=\"text\")"
   ]
  },
  {
   "cell_type": "code",
   "execution_count": 39,
   "metadata": {},
   "outputs": [],
   "source": [
    "fit1 = lm(log(INVPC)  ~ log(PRICE) + t, data=HSEINV)"
   ]
  },
  {
   "cell_type": "code",
   "execution_count": 40,
   "metadata": {},
   "outputs": [
    {
     "name": "stdout",
     "output_type": "stream",
     "text": [
      "\n",
      "===============================================\n",
      "                        Dependent variable:    \n",
      "                    ---------------------------\n",
      "                            log(INVPC)         \n",
      "-----------------------------------------------\n",
      "log(PRICE)                    -0.381           \n",
      "                              (0.679)          \n",
      "                                               \n",
      "t                            0.010***          \n",
      "                              (0.004)          \n",
      "                                               \n",
      "Constant                     -0.913***         \n",
      "                              (0.136)          \n",
      "                                               \n",
      "-----------------------------------------------\n",
      "Observations                    42             \n",
      "R2                             0.341           \n",
      "Adjusted R2                    0.307           \n",
      "Residual Std. Error       0.144 (df = 39)      \n",
      "F Statistic           10.080*** (df = 2; 39)   \n",
      "===============================================\n",
      "Note:               *p<0.1; **p<0.05; ***p<0.01\n"
     ]
    }
   ],
   "source": [
    "stargazer(fit1, type=\"text\")"
   ]
  },
  {
   "cell_type": "code",
   "execution_count": 41,
   "metadata": {},
   "outputs": [],
   "source": [
    "fit2 = lm(log(INVPC) ~ t, data=HSEINV)"
   ]
  },
  {
   "cell_type": "code",
   "execution_count": 42,
   "metadata": {},
   "outputs": [],
   "source": [
    "LogINVPC_RESID = fit2$residuals"
   ]
  },
  {
   "cell_type": "code",
   "execution_count": 43,
   "metadata": {},
   "outputs": [],
   "source": [
    "fit3 = lm(LogINVPC_RESID ~ log(PRICE) + t, data=HSEINV)"
   ]
  },
  {
   "cell_type": "code",
   "execution_count": 44,
   "metadata": {},
   "outputs": [
    {
     "name": "stdout",
     "output_type": "stream",
     "text": [
      "\n",
      "===============================================\n",
      "                        Dependent variable:    \n",
      "                    ---------------------------\n",
      "                          LogINVPC_RESID       \n",
      "-----------------------------------------------\n",
      "log(PRICE)                    -0.381           \n",
      "                              (0.679)          \n",
      "                                               \n",
      "t                              0.002           \n",
      "                              (0.004)          \n",
      "                                               \n",
      "Constant                      -0.072           \n",
      "                              (0.136)          \n",
      "                                               \n",
      "-----------------------------------------------\n",
      "Observations                    42             \n",
      "R2                             0.008           \n",
      "Adjusted R2                   -0.043           \n",
      "Residual Std. Error       0.144 (df = 39)      \n",
      "F Statistic             0.157 (df = 2; 39)     \n",
      "===============================================\n",
      "Note:               *p<0.1; **p<0.05; ***p<0.01\n"
     ]
    }
   ],
   "source": [
    "stargazer(fit3, type=\"text\")"
   ]
  },
  {
   "cell_type": "code",
   "execution_count": 45,
   "metadata": {},
   "outputs": [],
   "source": [
    "BARIUM$FEB = ifelse(BARIUM$MON == \"FEB\", 1, 0)"
   ]
  },
  {
   "cell_type": "code",
   "execution_count": 46,
   "metadata": {},
   "outputs": [],
   "source": [
    "BARIUM$MAR = ifelse(BARIUM$MON == \"MAR\", 1, 0)"
   ]
  },
  {
   "cell_type": "code",
   "execution_count": 47,
   "metadata": {},
   "outputs": [],
   "source": [
    "BARIUM$APR = ifelse(BARIUM$MON == \"APR\", 1, 0)"
   ]
  },
  {
   "cell_type": "code",
   "execution_count": 58,
   "metadata": {},
   "outputs": [],
   "source": [
    "BARIUM$MAY = ifelse(BARIUM$MON == \"MAY\", 1, 0)"
   ]
  },
  {
   "cell_type": "code",
   "execution_count": 59,
   "metadata": {},
   "outputs": [],
   "source": [
    "BARIUM$JUN = ifelse(BARIUM$MON == \"JUN\", 1, 0)"
   ]
  },
  {
   "cell_type": "code",
   "execution_count": 60,
   "metadata": {},
   "outputs": [],
   "source": [
    "BARIUM$JUL = ifelse(BARIUM$MON == \"JUL\", 1, 0)"
   ]
  },
  {
   "cell_type": "code",
   "execution_count": 62,
   "metadata": {},
   "outputs": [],
   "source": [
    "BARIUM$AUG = ifelse(BARIUM$MON == \"AUG\", 1, 0)"
   ]
  },
  {
   "cell_type": "code",
   "execution_count": 63,
   "metadata": {},
   "outputs": [],
   "source": [
    "BARIUM$SEP = ifelse(BARIUM$MON == \"SEP\", 1, 0)"
   ]
  },
  {
   "cell_type": "code",
   "execution_count": 68,
   "metadata": {},
   "outputs": [],
   "source": [
    "BARIUM$OCT = ifelse(BARIUM$MON == \"OCT\", 1, 0)"
   ]
  },
  {
   "cell_type": "code",
   "execution_count": 69,
   "metadata": {},
   "outputs": [],
   "source": [
    "BARIUM$NOV = ifelse(BARIUM$MON == \"NOV\", 1, 0)"
   ]
  },
  {
   "cell_type": "code",
   "execution_count": 70,
   "metadata": {},
   "outputs": [],
   "source": [
    "BARIUM$DEC = ifelse(BARIUM$MON == \"DEC\", 1, 0)"
   ]
  },
  {
   "cell_type": "code",
   "execution_count": 71,
   "metadata": {},
   "outputs": [],
   "source": [
    "fit1 = lm(log(CHNIMP) ~ log(CHEMPI) + log(GAS) + log(RTWEX) + BEFILE6 + AFFILE6 + AFDEC6, data=BARIUM)"
   ]
  },
  {
   "cell_type": "code",
   "execution_count": 72,
   "metadata": {},
   "outputs": [],
   "source": [
    "fit2 = lm(log(CHNIMP) ~ log(CHEMPI) + log(GAS) + log(RTWEX) + BEFILE6 + AFFILE6 + AFDEC6 + FEB + MAR + APR + MAY + JUN + JUL + AUG + SEP + OCT + NOV + DEC, data=BARIUM)"
   ]
  },
  {
   "cell_type": "code",
   "execution_count": 73,
   "metadata": {},
   "outputs": [
    {
     "name": "stdout",
     "output_type": "stream",
     "text": [
      "\n",
      "==================================================================\n",
      "                                 Dependent variable:              \n",
      "                    ----------------------------------------------\n",
      "                                     log(CHNIMP)                  \n",
      "                             (1)                     (2)          \n",
      "------------------------------------------------------------------\n",
      "log(CHEMPI)                3.117***               3.268***        \n",
      "                           (0.479)                 (0.492)        \n",
      "                                                                  \n",
      "log(GAS)                    0.198                  -1.324         \n",
      "                           (0.911)                 (1.396)        \n",
      "                                                                  \n",
      "log(RTWEX)                 0.983**                  0.656         \n",
      "                           (0.400)                 (0.471)        \n",
      "                                                                  \n",
      "BEFILE6                     0.060                   0.139         \n",
      "                           (0.261)                 (0.267)        \n",
      "                                                                  \n",
      "AFFILE6                     -0.032                  0.012         \n",
      "                           (0.264)                 (0.279)        \n",
      "                                                                  \n",
      "AFDEC6                     -0.565*                 -0.519*        \n",
      "                           (0.286)                 (0.302)        \n",
      "                                                                  \n",
      "FEB                                                -0.421         \n",
      "                                                   (0.304)        \n",
      "                                                                  \n",
      "MAR                                                 0.060         \n",
      "                                                   (0.264)        \n",
      "                                                                  \n",
      "APR                                                -0.453*        \n",
      "                                                   (0.268)        \n",
      "                                                                  \n",
      "MAY                                                 0.036         \n",
      "                                                   (0.269)        \n",
      "                                                                  \n",
      "JUN                                                -0.205         \n",
      "                                                   (0.269)        \n",
      "                                                                  \n",
      "JUL                                                 0.007         \n",
      "                                                   (0.279)        \n",
      "                                                                  \n",
      "AUG                                                -0.155         \n",
      "                                                   (0.278)        \n",
      "                                                                  \n",
      "SEP                                                -0.134         \n",
      "                                                   (0.268)        \n",
      "                                                                  \n",
      "OCT                                                 0.052         \n",
      "                                                   (0.267)        \n",
      "                                                                  \n",
      "NOV                                                -0.246         \n",
      "                                                   (0.263)        \n",
      "                                                                  \n",
      "DEC                                                 0.137         \n",
      "                                                   (0.272)        \n",
      "                                                                  \n",
      "Constant                   -17.831                 17.844         \n",
      "                           (21.147)               (32.602)        \n",
      "                                                                  \n",
      "------------------------------------------------------------------\n",
      "Observations                 131                     131          \n",
      "R2                          0.305                   0.359         \n",
      "Adjusted R2                 0.271                   0.262         \n",
      "Residual Std. Error    0.597 (df = 124)       0.601 (df = 113)    \n",
      "F Statistic         9.064*** (df = 6; 124) 3.717*** (df = 17; 113)\n",
      "==================================================================\n",
      "Note:                                  *p<0.1; **p<0.05; ***p<0.01\n"
     ]
    }
   ],
   "source": [
    "stargazer(fit1, fit2, type=\"text\")"
   ]
  },
  {
   "cell_type": "code",
   "execution_count": 75,
   "metadata": {},
   "outputs": [
    {
     "name": "stderr",
     "output_type": "stream",
     "text": [
      "Loading required package: car\n",
      "\n",
      "Loading required package: carData\n",
      "\n"
     ]
    }
   ],
   "source": [
    "require(car)"
   ]
  },
  {
   "cell_type": "code",
   "execution_count": 77,
   "metadata": {},
   "outputs": [
    {
     "data": {
      "text/html": [
       "<table>\n",
       "<caption>A anova: 2 × 6</caption>\n",
       "<thead>\n",
       "\t<tr><th></th><th scope=col>Res.Df</th><th scope=col>RSS</th><th scope=col>Df</th><th scope=col>Sum of Sq</th><th scope=col>F</th><th scope=col>Pr(&gt;F)</th></tr>\n",
       "\t<tr><th></th><th scope=col>&lt;dbl&gt;</th><th scope=col>&lt;dbl&gt;</th><th scope=col>&lt;dbl&gt;</th><th scope=col>&lt;dbl&gt;</th><th scope=col>&lt;dbl&gt;</th><th scope=col>&lt;dbl&gt;</th></tr>\n",
       "</thead>\n",
       "<tbody>\n",
       "\t<tr><th scope=row>1</th><td>124</td><td>44.24704</td><td>NA</td><td>      NA</td><td>       NA</td><td>       NA</td></tr>\n",
       "\t<tr><th scope=row>2</th><td>113</td><td>40.82521</td><td>11</td><td>3.421827</td><td>0.8610241</td><td>0.5802783</td></tr>\n",
       "</tbody>\n",
       "</table>\n"
      ],
      "text/latex": [
       "A anova: 2 × 6\n",
       "\\begin{tabular}{r|llllll}\n",
       "  & Res.Df & RSS & Df & Sum of Sq & F & Pr(>F)\\\\\n",
       "  & <dbl> & <dbl> & <dbl> & <dbl> & <dbl> & <dbl>\\\\\n",
       "\\hline\n",
       "\t1 & 124 & 44.24704 & NA &       NA &        NA &        NA\\\\\n",
       "\t2 & 113 & 40.82521 & 11 & 3.421827 & 0.8610241 & 0.5802783\\\\\n",
       "\\end{tabular}\n"
      ],
      "text/markdown": [
       "\n",
       "A anova: 2 × 6\n",
       "\n",
       "| <!--/--> | Res.Df &lt;dbl&gt; | RSS &lt;dbl&gt; | Df &lt;dbl&gt; | Sum of Sq &lt;dbl&gt; | F &lt;dbl&gt; | Pr(&gt;F) &lt;dbl&gt; |\n",
       "|---|---|---|---|---|---|---|\n",
       "| 1 | 124 | 44.24704 | NA |       NA |        NA |        NA |\n",
       "| 2 | 113 | 40.82521 | 11 | 3.421827 | 0.8610241 | 0.5802783 |\n",
       "\n"
      ],
      "text/plain": [
       "  Res.Df RSS      Df Sum of Sq F         Pr(>F)   \n",
       "1 124    44.24704 NA       NA         NA        NA\n",
       "2 113    40.82521 11 3.421827  0.8610241 0.5802783"
      ]
     },
     "metadata": {},
     "output_type": "display_data"
    }
   ],
   "source": [
    "linearHypothesis(fit2, c(\"FEB=0\", \"MAR=0\", \"APR=0\", \"MAY=0\", \"JUN=0\", \"JUL=0\", \"AUG=0\", \"SEP=0\", \"OCT=0\", \"NOV=0\", \"DEC=0\"), test=\"F\")"
   ]
  },
  {
   "cell_type": "code",
   "execution_count": 79,
   "metadata": {},
   "outputs": [
    {
     "data": {
      "text/html": [
       "0.23379749011518"
      ],
      "text/latex": [
       "0.23379749011518"
      ],
      "text/markdown": [
       "0.23379749011518"
      ],
      "text/plain": [
       "[1] 0.2337975"
      ]
     },
     "metadata": {},
     "output_type": "display_data"
    }
   ],
   "source": [
    "13.6/(13.6+44.57)"
   ]
  },
  {
   "cell_type": "code",
   "execution_count": 80,
   "metadata": {},
   "outputs": [
    {
     "data": {
      "text/html": [
       "0.0464249406980685"
      ],
      "text/latex": [
       "0.0464249406980685"
      ],
      "text/markdown": [
       "0.0464249406980685"
      ],
      "text/plain": [
       "[1] 0.04642494"
      ]
     },
     "metadata": {},
     "output_type": "display_data"
    }
   ],
   "source": [
    "1.233/26.559"
   ]
  },
  {
   "cell_type": "code",
   "execution_count": 82,
   "metadata": {},
   "outputs": [
    {
     "data": {
      "text/html": [
       "0.04738238"
      ],
      "text/latex": [
       "0.04738238"
      ],
      "text/markdown": [
       "0.04738238"
      ],
      "text/plain": [
       "[1] 0.04738238"
      ]
     },
     "metadata": {},
     "output_type": "display_data"
    }
   ],
   "source": [
    "0.766*0.04643+0.234*0.0505"
   ]
  },
  {
   "cell_type": "code",
   "execution_count": 83,
   "metadata": {},
   "outputs": [
    {
     "data": {
      "text/html": [
       "0.212311557788945"
      ],
      "text/latex": [
       "0.212311557788945"
      ],
      "text/markdown": [
       "0.212311557788945"
      ],
      "text/plain": [
       "[1] 0.2123116"
      ]
     },
     "metadata": {},
     "output_type": "display_data"
    }
   ],
   "source": [
    "1859/8756"
   ]
  },
  {
   "cell_type": "code",
   "execution_count": 84,
   "metadata": {},
   "outputs": [
    {
     "data": {
      "text/html": [
       "0.25965703517588"
      ],
      "text/latex": [
       "0.25965703517588"
      ],
      "text/markdown": [
       "0.25965703517588"
      ],
      "text/plain": [
       "[1] 0.259657"
      ]
     },
     "metadata": {},
     "output_type": "display_data"
    }
   ],
   "source": [
    "1.223*0.212311557788945"
   ]
  },
  {
   "cell_type": "code",
   "execution_count": 86,
   "metadata": {},
   "outputs": [
    {
     "data": {
      "text/html": [
       "600"
      ],
      "text/latex": [
       "600"
      ],
      "text/markdown": [
       "600"
      ],
      "text/plain": [
       "[1] 600"
      ]
     },
     "metadata": {},
     "output_type": "display_data"
    }
   ],
   "source": [
    "120*0.6/0.12"
   ]
  },
  {
   "cell_type": "code",
   "execution_count": 99,
   "metadata": {},
   "outputs": [
    {
     "data": {
      "text/html": [
       "0.143333333333333"
      ],
      "text/latex": [
       "0.143333333333333"
      ],
      "text/markdown": [
       "0.143333333333333"
      ],
      "text/plain": [
       "[1] 0.1433333"
      ]
     },
     "metadata": {},
     "output_type": "display_data"
    }
   ],
   "source": [
    "0.12+(0.5/0.9)*(0.12-0.05)*0.6"
   ]
  },
  {
   "cell_type": "code",
   "execution_count": 100,
   "metadata": {},
   "outputs": [
    {
     "data": {
      "text/html": [
       "0.11"
      ],
      "text/latex": [
       "0.11"
      ],
      "text/markdown": [
       "0.11"
      ],
      "text/plain": [
       "[1] 0.11"
      ]
     },
     "metadata": {},
     "output_type": "display_data"
    }
   ],
   "source": [
    "0.5/1.4*0.05+0.9/1.4*0.143333333333333"
   ]
  },
  {
   "cell_type": "code",
   "execution_count": 97,
   "metadata": {},
   "outputs": [
    {
     "data": {
      "text/html": [
       "1.30909090909091"
      ],
      "text/latex": [
       "1.30909090909091"
      ],
      "text/markdown": [
       "1.30909090909091"
      ],
      "text/plain": [
       "[1] 1.309091"
      ]
     },
     "metadata": {},
     "output_type": "display_data"
    }
   ],
   "source": [
    "0.24*0.6/0.11"
   ]
  },
  {
   "cell_type": "code",
   "execution_count": 102,
   "metadata": {},
   "outputs": [
    {
     "data": {
      "text/html": [
       "0.102857142857143"
      ],
      "text/latex": [
       "0.102857142857143"
      ],
      "text/markdown": [
       "0.102857142857143"
      ],
      "text/plain": [
       "[1] 0.1028571"
      ]
     },
     "metadata": {},
     "output_type": "display_data"
    }
   ],
   "source": [
    "0.5/1.4*0.05*0.6+0.9/1.4*0.1433333333333333"
   ]
  },
  {
   "cell_type": "code",
   "execution_count": 103,
   "metadata": {},
   "outputs": [
    {
     "data": {
      "text/html": [
       "1.4"
      ],
      "text/latex": [
       "1.4"
      ],
      "text/markdown": [
       "1.4"
      ],
      "text/plain": [
       "[1] 1.4"
      ]
     },
     "metadata": {},
     "output_type": "display_data"
    }
   ],
   "source": [
    "0.24*0.6/0.102857142857143"
   ]
  },
  {
   "cell_type": "code",
   "execution_count": 104,
   "metadata": {},
   "outputs": [
    {
     "data": {
      "text/html": [
       "11.75"
      ],
      "text/latex": [
       "11.75"
      ],
      "text/markdown": [
       "11.75"
      ],
      "text/plain": [
       "[1] 11.75"
      ]
     },
     "metadata": {},
     "output_type": "display_data"
    }
   ],
   "source": [
    "235/20"
   ]
  },
  {
   "cell_type": "code",
   "execution_count": 105,
   "metadata": {},
   "outputs": [
    {
     "data": {
      "text/html": [
       "8.51063829787234"
      ],
      "text/latex": [
       "8.51063829787234"
      ],
      "text/markdown": [
       "8.51063829787234"
      ],
      "text/plain": [
       "[1] 8.510638"
      ]
     },
     "metadata": {},
     "output_type": "display_data"
    }
   ],
   "source": [
    "100/11.75"
   ]
  },
  {
   "cell_type": "code",
   "execution_count": 106,
   "metadata": {},
   "outputs": [
    {
     "data": {
      "text/html": [
       "0.133333333333333"
      ],
      "text/latex": [
       "0.133333333333333"
      ],
      "text/markdown": [
       "0.133333333333333"
      ],
      "text/plain": [
       "[1] 0.1333333"
      ]
     },
     "metadata": {},
     "output_type": "display_data"
    }
   ],
   "source": [
    "1-(0.65*0.8)/0.6"
   ]
  },
  {
   "cell_type": "code",
   "execution_count": null,
   "metadata": {},
   "outputs": [],
   "source": []
  }
 ],
 "metadata": {
  "kernelspec": {
   "display_name": "R",
   "language": "R",
   "name": "ir"
  },
  "language_info": {
   "codemirror_mode": "r",
   "file_extension": ".r",
   "mimetype": "text/x-r-source",
   "name": "R",
   "pygments_lexer": "r",
   "version": "4.0.3"
  }
 },
 "nbformat": 4,
 "nbformat_minor": 4
}
