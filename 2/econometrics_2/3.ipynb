{
 "cells": [
  {
   "cell_type": "code",
   "execution_count": 1,
   "metadata": {},
   "outputs": [],
   "source": [
    "FERTIL = read.table(file=\"FERTIL.txt\",  header=FALSE, sep=\"\", as.is=TRUE, na.strings=c(\"NA\", \".\", \"\"))"
   ]
  },
  {
   "cell_type": "code",
   "execution_count": 2,
   "metadata": {},
   "outputs": [],
   "source": [
    "colnames(FERTIL) = c(\"GFR\", \"PE\", \"YEAR\")"
   ]
  },
  {
   "cell_type": "code",
   "execution_count": 3,
   "metadata": {},
   "outputs": [],
   "source": [
    "FERTIL$WW2 = ifelse(FERTIL$YEAR>=1941 & FERTIL$YEAR<=1945, 1, 0)"
   ]
  },
  {
   "cell_type": "code",
   "execution_count": 4,
   "metadata": {},
   "outputs": [],
   "source": [
    "FERTIL$PILL = ifelse(FERTIL$YEAR>=1963, 1, 0)"
   ]
  },
  {
   "cell_type": "code",
   "execution_count": 5,
   "metadata": {},
   "outputs": [
    {
     "name": "stderr",
     "output_type": "stream",
     "text": [
      "Loading required package: Hmisc\n",
      "\n",
      "Loading required package: lattice\n",
      "\n",
      "Loading required package: survival\n",
      "\n",
      "Loading required package: Formula\n",
      "\n",
      "Loading required package: ggplot2\n",
      "\n",
      "\n",
      "Attaching package: 'Hmisc'\n",
      "\n",
      "\n",
      "The following objects are masked from 'package:base':\n",
      "\n",
      "    format.pval, units\n",
      "\n",
      "\n"
     ]
    }
   ],
   "source": [
    "require(Hmisc)"
   ]
  },
  {
   "cell_type": "code",
   "execution_count": 6,
   "metadata": {},
   "outputs": [],
   "source": [
    "FERTIL = FERTIL[order(FERTIL$YEAR), ]"
   ]
  },
  {
   "cell_type": "code",
   "execution_count": 7,
   "metadata": {},
   "outputs": [],
   "source": [
    "FERTIL$PE_LAG1 = Lag(FERTIL$PE, 1)"
   ]
  },
  {
   "cell_type": "code",
   "execution_count": 8,
   "metadata": {},
   "outputs": [],
   "source": [
    "FERTIL$PE_LAG2 = Lag(FERTIL$PE, 2)"
   ]
  },
  {
   "cell_type": "code",
   "execution_count": 12,
   "metadata": {},
   "outputs": [],
   "source": [
    "fit1 = lm(GFR ~ PE + WW2 + PILL, data=FERTIL)"
   ]
  },
  {
   "cell_type": "code",
   "execution_count": 13,
   "metadata": {},
   "outputs": [],
   "source": [
    "fit2 = lm(GFR ~ PE + PE_LAG1 + PE_LAG2 + WW2 + PILL, data=FERTIL)"
   ]
  },
  {
   "cell_type": "code",
   "execution_count": 14,
   "metadata": {},
   "outputs": [
    {
     "name": "stderr",
     "output_type": "stream",
     "text": [
      "Loading required package: stargazer\n",
      "\n",
      "\n",
      "Please cite as: \n",
      "\n",
      "\n",
      " Hlavac, Marek (2018). stargazer: Well-Formatted Regression and Summary Statistics Tables.\n",
      "\n",
      " R package version 5.2.2. https://CRAN.R-project.org/package=stargazer \n",
      "\n",
      "\n"
     ]
    }
   ],
   "source": [
    "require(stargazer)"
   ]
  },
  {
   "cell_type": "code",
   "execution_count": 15,
   "metadata": {},
   "outputs": [
    {
     "name": "stdout",
     "output_type": "stream",
     "text": [
      "\n",
      "=================================================================\n",
      "                                 Dependent variable:             \n",
      "                    ---------------------------------------------\n",
      "                                         GFR                     \n",
      "                             (1)                    (2)          \n",
      "-----------------------------------------------------------------\n",
      "PE                         0.083***                0.073         \n",
      "                           (0.030)                (0.126)        \n",
      "                                                                 \n",
      "PE_LAG1                                            -0.006        \n",
      "                                                  (0.156)        \n",
      "                                                                 \n",
      "PE_LAG2                                            0.034         \n",
      "                                                  (0.126)        \n",
      "                                                                 \n",
      "WW2                       -24.238***             -22.127**       \n",
      "                           (7.458)                (10.732)       \n",
      "                                                                 \n",
      "PILL                      -31.594***             -31.305***      \n",
      "                           (4.081)                (3.982)        \n",
      "                                                                 \n",
      "Constant                  98.682***              95.870***       \n",
      "                           (3.208)                (3.282)        \n",
      "                                                                 \n",
      "-----------------------------------------------------------------\n",
      "Observations                  72                     70          \n",
      "R2                          0.473                  0.499         \n",
      "Adjusted R2                 0.450                  0.459         \n",
      "Residual Std. Error    14.685 (df = 68)       14.270 (df = 64)   \n",
      "F Statistic         20.378*** (df = 3; 68) 12.728*** (df = 5; 64)\n",
      "=================================================================\n",
      "Note:                                 *p<0.1; **p<0.05; ***p<0.01\n"
     ]
    }
   ],
   "source": [
    "RegOut = stargazer(fit1, fit2, type=\"text\")"
   ]
  },
  {
   "cell_type": "code",
   "execution_count": 16,
   "metadata": {},
   "outputs": [
    {
     "data": {
      "text/html": [
       "<table>\n",
       "<caption>A matrix: 3 × 3 of type dbl</caption>\n",
       "<thead>\n",
       "\t<tr><th></th><th scope=col>PE</th><th scope=col>PE_LAG1</th><th scope=col>PE_LAG2</th></tr>\n",
       "</thead>\n",
       "<tbody>\n",
       "\t<tr><th scope=row>PE</th><td>1.0000000</td><td>0.9622997</td><td>0.9090107</td></tr>\n",
       "\t<tr><th scope=row>PE_LAG1</th><td>0.9622997</td><td>1.0000000</td><td>0.9637233</td></tr>\n",
       "\t<tr><th scope=row>PE_LAG2</th><td>0.9090107</td><td>0.9637233</td><td>1.0000000</td></tr>\n",
       "</tbody>\n",
       "</table>\n"
      ],
      "text/latex": [
       "A matrix: 3 × 3 of type dbl\n",
       "\\begin{tabular}{r|lll}\n",
       "  & PE & PE\\_LAG1 & PE\\_LAG2\\\\\n",
       "\\hline\n",
       "\tPE & 1.0000000 & 0.9622997 & 0.9090107\\\\\n",
       "\tPE\\_LAG1 & 0.9622997 & 1.0000000 & 0.9637233\\\\\n",
       "\tPE\\_LAG2 & 0.9090107 & 0.9637233 & 1.0000000\\\\\n",
       "\\end{tabular}\n"
      ],
      "text/markdown": [
       "\n",
       "A matrix: 3 × 3 of type dbl\n",
       "\n",
       "| <!--/--> | PE | PE_LAG1 | PE_LAG2 |\n",
       "|---|---|---|---|\n",
       "| PE | 1.0000000 | 0.9622997 | 0.9090107 |\n",
       "| PE_LAG1 | 0.9622997 | 1.0000000 | 0.9637233 |\n",
       "| PE_LAG2 | 0.9090107 | 0.9637233 | 1.0000000 |\n",
       "\n"
      ],
      "text/plain": [
       "        PE        PE_LAG1   PE_LAG2  \n",
       "PE      1.0000000 0.9622997 0.9090107\n",
       "PE_LAG1 0.9622997 1.0000000 0.9637233\n",
       "PE_LAG2 0.9090107 0.9637233 1.0000000"
      ]
     },
     "metadata": {},
     "output_type": "display_data"
    }
   ],
   "source": [
    "cor(FERTIL[, c(\"PE\", \"PE_LAG1\", \"PE_LAG2\")], use=\"complete.obs\", method=\"pearson\")"
   ]
  },
  {
   "cell_type": "code",
   "execution_count": 17,
   "metadata": {},
   "outputs": [
    {
     "name": "stderr",
     "output_type": "stream",
     "text": [
      "Loading required package: car\n",
      "\n",
      "Loading required package: carData\n",
      "\n"
     ]
    }
   ],
   "source": [
    "require(car)"
   ]
  },
  {
   "cell_type": "code",
   "execution_count": 18,
   "metadata": {},
   "outputs": [
    {
     "data": {
      "text/html": [
       "<table>\n",
       "<caption>A anova: 2 × 6</caption>\n",
       "<thead>\n",
       "\t<tr><th></th><th scope=col>Res.Df</th><th scope=col>RSS</th><th scope=col>Df</th><th scope=col>Sum of Sq</th><th scope=col>F</th><th scope=col>Pr(&gt;F)</th></tr>\n",
       "\t<tr><th></th><th scope=col>&lt;dbl&gt;</th><th scope=col>&lt;dbl&gt;</th><th scope=col>&lt;dbl&gt;</th><th scope=col>&lt;dbl&gt;</th><th scope=col>&lt;dbl&gt;</th><th scope=col>&lt;dbl&gt;</th></tr>\n",
       "</thead>\n",
       "<tbody>\n",
       "\t<tr><th scope=row>1</th><td>67</td><td>15459.75</td><td>NA</td><td>      NA</td><td>      NA</td><td>      NA</td></tr>\n",
       "\t<tr><th scope=row>2</th><td>64</td><td>13032.64</td><td> 3</td><td>2427.104</td><td>3.972964</td><td>0.011652</td></tr>\n",
       "</tbody>\n",
       "</table>\n"
      ],
      "text/latex": [
       "A anova: 2 × 6\n",
       "\\begin{tabular}{r|llllll}\n",
       "  & Res.Df & RSS & Df & Sum of Sq & F & Pr(>F)\\\\\n",
       "  & <dbl> & <dbl> & <dbl> & <dbl> & <dbl> & <dbl>\\\\\n",
       "\\hline\n",
       "\t1 & 67 & 15459.75 & NA &       NA &       NA &       NA\\\\\n",
       "\t2 & 64 & 13032.64 &  3 & 2427.104 & 3.972964 & 0.011652\\\\\n",
       "\\end{tabular}\n"
      ],
      "text/markdown": [
       "\n",
       "A anova: 2 × 6\n",
       "\n",
       "| <!--/--> | Res.Df &lt;dbl&gt; | RSS &lt;dbl&gt; | Df &lt;dbl&gt; | Sum of Sq &lt;dbl&gt; | F &lt;dbl&gt; | Pr(&gt;F) &lt;dbl&gt; |\n",
       "|---|---|---|---|---|---|---|\n",
       "| 1 | 67 | 15459.75 | NA |       NA |       NA |       NA |\n",
       "| 2 | 64 | 13032.64 |  3 | 2427.104 | 3.972964 | 0.011652 |\n",
       "\n"
      ],
      "text/plain": [
       "  Res.Df RSS      Df Sum of Sq F        Pr(>F)  \n",
       "1 67     15459.75 NA       NA        NA       NA\n",
       "2 64     13032.64  3 2427.104  3.972964 0.011652"
      ]
     },
     "metadata": {},
     "output_type": "display_data"
    }
   ],
   "source": [
    "linearHypothesis(fit2, c(\"PE=0\", \"PE_LAG1=0\", \"PE_LAG2=0\"), test=\"F\")"
   ]
  },
  {
   "cell_type": "code",
   "execution_count": 28,
   "metadata": {},
   "outputs": [],
   "source": [
    "LRP = sum(fit2$coefficients[c(\"PE\", \"PE_LAG1\", \"PE_LAG2\")])"
   ]
  },
  {
   "cell_type": "code",
   "execution_count": 31,
   "metadata": {},
   "outputs": [
    {
     "data": {
      "text/html": [
       "0.100719094290234"
      ],
      "text/latex": [
       "0.100719094290234"
      ],
      "text/markdown": [
       "0.100719094290234"
      ],
      "text/plain": [
       "[1] 0.1007191"
      ]
     },
     "metadata": {},
     "output_type": "display_data"
    }
   ],
   "source": [
    "LRP"
   ]
  },
  {
   "cell_type": "code",
   "execution_count": 32,
   "metadata": {},
   "outputs": [
    {
     "data": {
      "text/html": [
       "0.100719094290234"
      ],
      "text/latex": [
       "0.100719094290234"
      ],
      "text/markdown": [
       "0.100719094290234"
      ],
      "text/plain": [
       "[1] 0.1007191"
      ]
     },
     "metadata": {},
     "output_type": "display_data"
    }
   ],
   "source": [
    "LRP"
   ]
  },
  {
   "cell_type": "code",
   "execution_count": null,
   "metadata": {},
   "outputs": [],
   "source": []
  }
 ],
 "metadata": {
  "kernelspec": {
   "display_name": "R",
   "language": "R",
   "name": "ir"
  },
  "language_info": {
   "codemirror_mode": "r",
   "file_extension": ".r",
   "mimetype": "text/x-r-source",
   "name": "R",
   "pygments_lexer": "r",
   "version": "4.0.3"
  }
 },
 "nbformat": 4,
 "nbformat_minor": 4
}
