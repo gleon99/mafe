{
 "cells": [
  {
   "cell_type": "code",
   "execution_count": 2,
   "metadata": {},
   "outputs": [],
   "source": [
    "ceo_sal = read.table(\"Data Sets-20201113/CEOSAL1.txt\")#, header=FALSE, sep=\" \")"
   ]
  },
  {
   "cell_type": "code",
   "execution_count": 3,
   "metadata": {},
   "outputs": [],
   "source": [
    "colnames(ceo_sal) = c(\"salary\", \"pcsalay\", \"salre\", \"roe\", \"pcroe\", \"ros\", \"induc\", \"finance\", \"consprod\", \"utility\", \"lsalary\", \"lsales\")"
   ]
  },
  {
   "cell_type": "code",
   "execution_count": 4,
   "metadata": {},
   "outputs": [],
   "source": [
    "wage = read.table(\"Data Sets-20201113/WAGE1.txt\")"
   ]
  },
  {
   "cell_type": "code",
   "execution_count": 5,
   "metadata": {},
   "outputs": [],
   "source": [
    "colnames(wage) = c(\"wage\", \"educ\", \"exper\", \"tenure\", \"nonwhite\", \"female\", \"married\", \"numdep\", \"smsa\", \"northcen\", \"south\", \"west\", \"construc\", \"ndurman\", \"trcommpu\", \"trade\", \"services\", \"profserv\", \"profocc\", \"clerocc\", \"servocc\", \"lwage\", \"expersq\", \"tenursq\")"
   ]
  },
  {
   "cell_type": "code",
   "execution_count": 6,
   "metadata": {},
   "outputs": [],
   "source": [
    "wage2=wage[,c(\"wage\",\"educ\",\"exper\",\"tenure\",\"lwage\")]"
   ]
  },
  {
   "cell_type": "code",
   "execution_count": 7,
   "metadata": {},
   "outputs": [],
   "source": [
    "fit = lm(lwage ~ educ + exper + tenure, data=wage2)"
   ]
  },
  {
   "cell_type": "code",
   "execution_count": 8,
   "metadata": {},
   "outputs": [],
   "source": [
    "summary_fit = summary(fit)"
   ]
  },
  {
   "cell_type": "code",
   "execution_count": 9,
   "metadata": {},
   "outputs": [
    {
     "data": {
      "text/plain": [
       "\n",
       "Call:\n",
       "lm(formula = lwage ~ educ + exper + tenure, data = wage2)\n",
       "\n",
       "Residuals:\n",
       "     Min       1Q   Median       3Q      Max \n",
       "-2.05802 -0.29645 -0.03264  0.28788  1.42809 \n",
       "\n",
       "Coefficients:\n",
       "            Estimate Std. Error t value Pr(>|t|)    \n",
       "(Intercept) 0.284359   0.104190   2.729  0.00656 ** \n",
       "educ        0.092029   0.007330  12.555  < 2e-16 ***\n",
       "exper       0.004121   0.001723   2.391  0.01714 *  \n",
       "tenure      0.022067   0.003094   7.133 3.29e-12 ***\n",
       "---\n",
       "Signif. codes:  0 '***' 0.001 '**' 0.01 '*' 0.05 '.' 0.1 ' ' 1\n",
       "\n",
       "Residual standard error: 0.4409 on 522 degrees of freedom\n",
       "Multiple R-squared:  0.316,\tAdjusted R-squared:  0.3121 \n",
       "F-statistic: 80.39 on 3 and 522 DF,  p-value: < 2.2e-16\n"
      ]
     },
     "metadata": {},
     "output_type": "display_data"
    }
   ],
   "source": [
    "summary_fit"
   ]
  },
  {
   "cell_type": "code",
   "execution_count": 10,
   "metadata": {},
   "outputs": [
    {
     "data": {
      "text/html": [
       "0.0776292158647121"
      ],
      "text/latex": [
       "0.0776292158647121"
      ],
      "text/markdown": [
       "0.0776292158647121"
      ],
      "text/plain": [
       "[1] 0.07762922"
      ]
     },
     "metadata": {},
     "output_type": "display_data"
    }
   ],
   "source": [
    "summary_fit$coefficients[\"educ\", 1] - qt(p=0.975, df=522)*summary_fit$coefficients[\"educ\", 2]"
   ]
  },
  {
   "cell_type": "code",
   "execution_count": 11,
   "metadata": {},
   "outputs": [
    {
     "data": {
      "text/html": [
       "0.106428763632034"
      ],
      "text/latex": [
       "0.106428763632034"
      ],
      "text/markdown": [
       "0.106428763632034"
      ],
      "text/plain": [
       "[1] 0.1064288"
      ]
     },
     "metadata": {},
     "output_type": "display_data"
    }
   ],
   "source": [
    "summary_fit$coefficients[\"educ\", 1] - qt(p=0.025, df=522)*summary_fit$coefficients[\"educ\", 2]"
   ]
  },
  {
   "cell_type": "code",
   "execution_count": 12,
   "metadata": {},
   "outputs": [
    {
     "data": {
      "text/html": [
       "<table>\n",
       "<caption>A matrix: 1 × 2 of type dbl</caption>\n",
       "<thead>\n",
       "\t<tr><th></th><th scope=col>2.5 %</th><th scope=col>97.5 %</th></tr>\n",
       "</thead>\n",
       "<tbody>\n",
       "\t<tr><th scope=row>educ</th><td>0.07762922</td><td>0.1064288</td></tr>\n",
       "</tbody>\n",
       "</table>\n"
      ],
      "text/latex": [
       "A matrix: 1 × 2 of type dbl\n",
       "\\begin{tabular}{r|ll}\n",
       "  & 2.5 \\% & 97.5 \\%\\\\\n",
       "\\hline\n",
       "\teduc & 0.07762922 & 0.1064288\\\\\n",
       "\\end{tabular}\n"
      ],
      "text/markdown": [
       "\n",
       "A matrix: 1 × 2 of type dbl\n",
       "\n",
       "| <!--/--> | 2.5 % | 97.5 % |\n",
       "|---|---|---|\n",
       "| educ | 0.07762922 | 0.1064288 |\n",
       "\n"
      ],
      "text/plain": [
       "     2.5 %      97.5 %   \n",
       "educ 0.07762922 0.1064288"
      ]
     },
     "metadata": {},
     "output_type": "display_data"
    }
   ],
   "source": [
    "confint(fit, \"educ\", level=0.95, alternative=\"two.sided\")"
   ]
  },
  {
   "cell_type": "code",
   "execution_count": 13,
   "metadata": {},
   "outputs": [],
   "source": [
    "wage1_new = wage2"
   ]
  },
  {
   "cell_type": "code",
   "execution_count": 31,
   "metadata": {},
   "outputs": [],
   "source": [
    "fit = lm(lwage ~ educ + exper + tenure, data=wage1_new)"
   ]
  },
  {
   "cell_type": "code",
   "execution_count": 15,
   "metadata": {},
   "outputs": [],
   "source": [
    "wage1_new$educ_new = wage1_new$educ - 8"
   ]
  },
  {
   "cell_type": "code",
   "execution_count": 16,
   "metadata": {},
   "outputs": [],
   "source": [
    "wage1_new$exper_new = wage1_new$exper - 6"
   ]
  },
  {
   "cell_type": "code",
   "execution_count": 17,
   "metadata": {},
   "outputs": [],
   "source": [
    "wage1_new$tenure_new = wage1_new$tenure - 4"
   ]
  },
  {
   "cell_type": "code",
   "execution_count": 18,
   "metadata": {},
   "outputs": [],
   "source": [
    "fit_new = lm(lwage ~ educ_new + exper_new + tenure_new, data=wage1_new)"
   ]
  },
  {
   "cell_type": "code",
   "execution_count": 19,
   "metadata": {},
   "outputs": [
    {
     "data": {
      "text/plain": [
       "\n",
       "Call:\n",
       "lm(formula = lwage ~ educ_new + exper_new + tenure_new, data = wage1_new)\n",
       "\n",
       "Residuals:\n",
       "     Min       1Q   Median       3Q      Max \n",
       "-2.05802 -0.29645 -0.03264  0.28788  1.42809 \n",
       "\n",
       "Coefficients:\n",
       "            Estimate Std. Error t value Pr(>|t|)    \n",
       "(Intercept) 1.133587   0.046553  24.350  < 2e-16 ***\n",
       "educ_new    0.092029   0.007330  12.555  < 2e-16 ***\n",
       "exper_new   0.004121   0.001723   2.391   0.0171 *  \n",
       "tenure_new  0.022067   0.003094   7.133 3.29e-12 ***\n",
       "---\n",
       "Signif. codes:  0 '***' 0.001 '**' 0.01 '*' 0.05 '.' 0.1 ' ' 1\n",
       "\n",
       "Residual standard error: 0.4409 on 522 degrees of freedom\n",
       "Multiple R-squared:  0.316,\tAdjusted R-squared:  0.3121 \n",
       "F-statistic: 80.39 on 3 and 522 DF,  p-value: < 2.2e-16\n"
      ]
     },
     "metadata": {},
     "output_type": "display_data"
    }
   ],
   "source": [
    "summary(fit_new)"
   ]
  },
  {
   "cell_type": "code",
   "execution_count": 20,
   "metadata": {},
   "outputs": [],
   "source": [
    "new_df = data.frame(educ=8, exper=6, tenure=4)"
   ]
  },
  {
   "cell_type": "code",
   "execution_count": 21,
   "metadata": {},
   "outputs": [
    {
     "data": {
      "text/html": [
       "<strong>1:</strong> 1.13358694908273"
      ],
      "text/latex": [
       "\\textbf{1:} 1.13358694908273"
      ],
      "text/markdown": [
       "**1:** 1.13358694908273"
      ],
      "text/plain": [
       "       1 \n",
       "1.133587 "
      ]
     },
     "metadata": {},
     "output_type": "display_data"
    }
   ],
   "source": [
    "predict(fit, new_df)"
   ]
  },
  {
   "cell_type": "code",
   "execution_count": 22,
   "metadata": {},
   "outputs": [
    {
     "data": {
      "text/html": [
       "<table>\n",
       "<caption>A matrix: 1 × 2 of type dbl</caption>\n",
       "<thead>\n",
       "\t<tr><th></th><th scope=col>2.5 %</th><th scope=col>97.5 %</th></tr>\n",
       "</thead>\n",
       "<tbody>\n",
       "\t<tr><th scope=row>(Intercept)</th><td>1.042133</td><td>1.225041</td></tr>\n",
       "</tbody>\n",
       "</table>\n"
      ],
      "text/latex": [
       "A matrix: 1 × 2 of type dbl\n",
       "\\begin{tabular}{r|ll}\n",
       "  & 2.5 \\% & 97.5 \\%\\\\\n",
       "\\hline\n",
       "\t(Intercept) & 1.042133 & 1.225041\\\\\n",
       "\\end{tabular}\n"
      ],
      "text/markdown": [
       "\n",
       "A matrix: 1 × 2 of type dbl\n",
       "\n",
       "| <!--/--> | 2.5 % | 97.5 % |\n",
       "|---|---|---|\n",
       "| (Intercept) | 1.042133 | 1.225041 |\n",
       "\n"
      ],
      "text/plain": [
       "            2.5 %    97.5 %  \n",
       "(Intercept) 1.042133 1.225041"
      ]
     },
     "metadata": {},
     "output_type": "display_data"
    }
   ],
   "source": [
    "confint(fit_new, \"(Intercept)\", level=0.95, alternative=\"two.sided\")"
   ]
  },
  {
   "cell_type": "code",
   "execution_count": 23,
   "metadata": {},
   "outputs": [],
   "source": [
    "mom_est = mean(exp(fit$resid))"
   ]
  },
  {
   "cell_type": "code",
   "execution_count": 24,
   "metadata": {},
   "outputs": [
    {
     "data": {
      "text/html": [
       "1.10283603087949"
      ],
      "text/latex": [
       "1.10283603087949"
      ],
      "text/markdown": [
       "1.10283603087949"
      ],
      "text/plain": [
       "[1] 1.102836"
      ]
     },
     "metadata": {},
     "output_type": "display_data"
    }
   ],
   "source": [
    "mom_est"
   ]
  },
  {
   "cell_type": "code",
   "execution_count": 25,
   "metadata": {},
   "outputs": [],
   "source": [
    "se_spc = sqrt(vcov(fit_new)[1,1] + summary(fit)$sigma^2)"
   ]
  },
  {
   "cell_type": "code",
   "execution_count": 26,
   "metadata": {},
   "outputs": [
    {
     "data": {
      "text/html": [
       "0.443313139078979"
      ],
      "text/latex": [
       "0.443313139078979"
      ],
      "text/markdown": [
       "0.443313139078979"
      ],
      "text/plain": [
       "[1] 0.4433131"
      ]
     },
     "metadata": {},
     "output_type": "display_data"
    }
   ],
   "source": [
    "se_spc"
   ]
  },
  {
   "cell_type": "code",
   "execution_count": 27,
   "metadata": {},
   "outputs": [
    {
     "data": {
      "text/html": [
       "<strong>(Intercept):</strong> 0.26268989019876"
      ],
      "text/latex": [
       "\\textbf{(Intercept):} 0.26268989019876"
      ],
      "text/markdown": [
       "**(Intercept):** 0.26268989019876"
      ],
      "text/plain": [
       "(Intercept) \n",
       "  0.2626899 "
      ]
     },
     "metadata": {},
     "output_type": "display_data"
    }
   ],
   "source": [
    "fit_new$coefficients[\"(Intercept)\"] - qt(p=0.975, df=522)*se_spc"
   ]
  },
  {
   "cell_type": "code",
   "execution_count": 28,
   "metadata": {},
   "outputs": [
    {
     "data": {
      "text/html": [
       "<strong>(Intercept):</strong> 2.00448400796671"
      ],
      "text/latex": [
       "\\textbf{(Intercept):} 2.00448400796671"
      ],
      "text/markdown": [
       "**(Intercept):** 2.00448400796671"
      ],
      "text/plain": [
       "(Intercept) \n",
       "   2.004484 "
      ]
     },
     "metadata": {},
     "output_type": "display_data"
    }
   ],
   "source": [
    "fit_new$coefficients[\"(Intercept)\"] - qt(p=0.025, df=522)*se_spc"
   ]
  },
  {
   "cell_type": "code",
   "execution_count": 29,
   "metadata": {},
   "outputs": [
    {
     "data": {
      "text/html": [
       "0.00856038521833549"
      ],
      "text/latex": [
       "0.00856038521833549"
      ],
      "text/markdown": [
       "0.00856038521833549"
      ],
      "text/plain": [
       "[1] 0.008560385"
      ]
     },
     "metadata": {},
     "output_type": "display_data"
    }
   ],
   "source": [
    "pt(q=-2.391759, df=522)"
   ]
  },
  {
   "cell_type": "code",
   "execution_count": 30,
   "metadata": {},
   "outputs": [
    {
     "data": {
      "text/html": [
       "0.00856038521833546"
      ],
      "text/latex": [
       "0.00856038521833546"
      ],
      "text/markdown": [
       "0.00856038521833546"
      ],
      "text/plain": [
       "[1] 0.008560385"
      ]
     },
     "metadata": {},
     "output_type": "display_data"
    }
   ],
   "source": [
    "1-pt(q=2.391759, df=522)"
   ]
  },
  {
   "cell_type": "code",
   "execution_count": null,
   "metadata": {},
   "outputs": [],
   "source": []
  },
  {
   "cell_type": "code",
   "execution_count": null,
   "metadata": {},
   "outputs": [],
   "source": []
  }
 ],
 "metadata": {
  "kernelspec": {
   "display_name": "R",
   "language": "R",
   "name": "ir"
  },
  "language_info": {
   "codemirror_mode": "r",
   "file_extension": ".r",
   "mimetype": "text/x-r-source",
   "name": "R",
   "pygments_lexer": "r",
   "version": "4.0.3"
  }
 },
 "nbformat": 4,
 "nbformat_minor": 4
}
